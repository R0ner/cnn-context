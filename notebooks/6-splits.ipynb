{
 "cells": [
  {
   "cell_type": "markdown",
   "id": "cad7d08a-78a1-4333-bc5a-fbd37188ff96",
   "metadata": {},
   "source": [
    "# Prerequisites"
   ]
  },
  {
   "cell_type": "code",
   "execution_count": 1,
   "id": "5773c80d-a80c-4c3d-9c07-83faee5c6d96",
   "metadata": {},
   "outputs": [],
   "source": [
    "import sys\n",
    "\n",
    "sys.path.append(\"..\")"
   ]
  },
  {
   "cell_type": "code",
   "execution_count": 2,
   "id": "f009c494-4074-4f3d-82df-b18d2740ac1e",
   "metadata": {},
   "outputs": [],
   "source": [
    "import os\n",
    "import shutil\n",
    "\n",
    "import numpy as np\n",
    "\n",
    "from dataset import HWSetMasks"
   ]
  },
  {
   "cell_type": "code",
   "execution_count": 3,
   "id": "b26241b2-a916-4fcf-9154-d2fb6045a93f",
   "metadata": {},
   "outputs": [],
   "source": [
    "data_dir = \"../data\""
   ]
  },
  {
   "cell_type": "markdown",
   "id": "622c59a5-b522-4fa1-bde5-6fd75ef4b07f",
   "metadata": {},
   "source": [
    "# Get train/test splits"
   ]
  },
  {
   "cell_type": "code",
   "execution_count": 7,
   "id": "ff14de3c-3b80-4d52-8591-6881980ceba0",
   "metadata": {},
   "outputs": [
    {
     "data": {
      "text/plain": [
       "(['../data/train_images_0_hw/n02110185_10010_n02110185.JPEG',\n",
       "  '../data/train_images_0_hw/n02110185_10015_n02110185.JPEG',\n",
       "  '../data/train_images_0_hw/n02110185_1002_n02110185.JPEG',\n",
       "  '../data/train_images_0_hw/n02110185_10047_n02110185.JPEG',\n",
       "  '../data/train_images_0_hw/n02110185_10075_n02110185.JPEG'],\n",
       " ['../data/train_images_0_hw_masks/n02110185_10010_n02110185.tiff',\n",
       "  '../data/train_images_0_hw_masks/n02110185_10015_n02110185.tiff',\n",
       "  '../data/train_images_0_hw_masks/n02110185_1002_n02110185.tiff',\n",
       "  '../data/train_images_0_hw_masks/n02110185_10047_n02110185.tiff',\n",
       "  '../data/train_images_0_hw_masks/n02110185_10075_n02110185.tiff'],\n",
       " 932)"
      ]
     },
     "execution_count": 7,
     "metadata": {},
     "output_type": "execute_result"
    }
   ],
   "source": [
    "dset = HWSetMasks(data_dir, \"train\")\n",
    "dset.imgs[:5], dset.masks[:5], len(dset)"
   ]
  },
  {
   "cell_type": "code",
   "execution_count": 5,
   "id": "27014437-3419-4c10-980d-02643848728b",
   "metadata": {},
   "outputs": [],
   "source": [
    "test_dir_img = f\"{data_dir}/test_images_hw\"\n",
    "test_dir_mask = f\"{test_dir_img}_masks\"\n",
    "\n",
    "for dir in (test_dir_img, test_dir_mask):\n",
    "    if not os.path.exists(dir):\n",
    "        os.mkdir(dir)"
   ]
  },
  {
   "cell_type": "code",
   "execution_count": 6,
   "id": "d2a36865-585b-461e-9a4c-3a4ee48870d4",
   "metadata": {},
   "outputs": [],
   "source": [
    "# assert len(dset) == 1032\n",
    "# np.random.seed(191510)\n",
    "# indices = np.random.permutation(len(dset))[:100]\n",
    "# for idx in indices:\n",
    "#     img_f, mask_f = dset.imgs[idx], dset.masks[idx]\n",
    "#     img_f_dst = f\"{test_dir_img}/{os.path.basename(img_f)}\"\n",
    "#     mask_f_dst =  f\"{test_dir_mask}/{os.path.basename(mask_f)}\"\n",
    "    \n",
    "#     shutil.move(img_f, img_f_dst)\n",
    "#     shutil.move(mask_f, mask_f_dst)\n"
   ]
  }
 ],
 "metadata": {
  "kernelspec": {
   "display_name": "Python 3 (ipykernel)",
   "language": "python",
   "name": "python3"
  },
  "language_info": {
   "codemirror_mode": {
    "name": "ipython",
    "version": 3
   },
   "file_extension": ".py",
   "mimetype": "text/x-python",
   "name": "python",
   "nbconvert_exporter": "python",
   "pygments_lexer": "ipython3",
   "version": "3.12.1"
  }
 },
 "nbformat": 4,
 "nbformat_minor": 5
}
