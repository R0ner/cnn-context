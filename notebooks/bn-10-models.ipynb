{
 "cells": [
  {
   "cell_type": "markdown",
   "id": "7f4826bc-f209-4d6e-acff-947c9090c15c",
   "metadata": {},
   "source": [
    "# Prerequisites"
   ]
  },
  {
   "cell_type": "code",
   "execution_count": 1,
   "id": "4341aa4e-a239-49b9-9c91-513f061318ff",
   "metadata": {},
   "outputs": [],
   "source": [
    "import os\n",
    "import sys\n",
    "\n",
    "os.environ[\"CUDA_VISIBLE_DEVICES\"] = \"2\"\n",
    "sys.path.append(\"..\")"
   ]
  },
  {
   "cell_type": "code",
   "execution_count": 2,
   "id": "ff136047-5b29-45db-921a-5a29672268ac",
   "metadata": {},
   "outputs": [],
   "source": [
    "%load_ext autoreload\n",
    "%autoreload 2\n",
    "\n",
    "\n",
    "import matplotlib.pyplot as plt\n",
    "import numpy as np\n",
    "import seaborn as sns\n",
    "import torch\n",
    "import torchvision.transforms.v2 as transforms\n",
    "from IPython.display import clear_output\n",
    "from monai.networks.nets import resnet10\n",
    "from skimage.io import imread, imsave\n",
    "from torch import nn\n",
    "from torch.optim import Adam\n",
    "from torch.utils.data import DataLoader, Dataset\n",
    "from tqdm.notebook import tqdm\n",
    "\n",
    "import transforms3d as T\n",
    "from dataset3d import BNSet, BNSetMasks, get_dloader_mask, get_dloader_noise\n",
    "from model3d import CNN3d\n",
    "from util3d import get_obj_score3d, get_saliency3d, show_volume\n",
    "\n",
    "sns.set_theme()"
   ]
  },
  {
   "cell_type": "code",
   "execution_count": 3,
   "id": "2372aa80-4046-48a0-8b68-1ccf47e1baa4",
   "metadata": {},
   "outputs": [],
   "source": [
    "# data_dir = \"../data/bugNIST_DATA\"\n",
    "data_dir = \"/work3/s191510/data/BugNIST_DATA\"\n",
    "\n",
    "name_legend = {\n",
    "    \"ac\": \"brown_cricket\",\n",
    "    \"bc\": \"black_cricket\",\n",
    "    \"bf\": \"blow_fly\",\n",
    "    \"bl\": \"buffalo_bettle_larva\",\n",
    "    \"bp\": \"blow_fly_pupa\",\n",
    "    \"cf\": \"curly-wing_fly\",\n",
    "    \"gh\": \"grasshopper\",\n",
    "    \"ma\": \"maggot\",\n",
    "    \"ml\": \"mealworm\",\n",
    "    \"pp\": \"green_bottle_fly_pupa\",\n",
    "    \"sl\": \"soldier_fly_larva\",\n",
    "    \"wo\": \"woodlice\",\n",
    "}\n",
    "\n",
    "device = \"cuda\" if torch.cuda.is_available() else \"cpu\""
   ]
  },
  {
   "cell_type": "markdown",
   "id": "44170487-559b-4764-a5e3-6e48829a67ee",
   "metadata": {},
   "source": [
    "# Training loop"
   ]
  },
  {
   "cell_type": "code",
   "execution_count": 4,
   "id": "290e8b02-17ca-49c7-ba80-62f08889c0b3",
   "metadata": {},
   "outputs": [],
   "source": [
    "lr = 1e-4\n",
    "\n",
    "batch_size = 8\n",
    "num_workers = 16\n",
    "\n",
    "# subset = [\"ac\", \"bc\"]\n",
    "subset = [\"ac\", \"ml\"]\n",
    "# subset = list(name_legend.keys())\n",
    "\n",
    "persistent_workers = num_workers > 0\n",
    "trainloader = get_dloader_noise(\n",
    "    \"train\",\n",
    "    batch_size,\n",
    "    data_dir=data_dir,\n",
    "    subset=subset,\n",
    "    num_workers=num_workers,\n",
    "    pin_memory=True,\n",
    "    persistent_workers=persistent_workers,\n",
    ")\n",
    "valloader = get_dloader_noise(\n",
    "    \"val\",\n",
    "    batch_size,\n",
    "    data_dir=data_dir,\n",
    "    subset=subset,\n",
    "    num_workers=num_workers,\n",
    "    pin_memory=True,\n",
    "    persistent_workers=persistent_workers,\n",
    ")\n",
    "\n",
    "model = CNN3d(len(subset))\n",
    "# model = resnet18(\n",
    "#     spatial_dims=3,\n",
    "#     n_input_channels=1,\n",
    "#     num_classes=len(subset),\n",
    "# )\n",
    "# model = resnet10(\n",
    "#     spatial_dims=3,\n",
    "#     n_input_channels=1,\n",
    "#     num_classes=len(subset),\n",
    "# )\n",
    "model.to(device)\n",
    "\n",
    "criterion = nn.CrossEntropyLoss()\n",
    "optimizer = Adam(model.parameters(), lr=lr)\n",
    "\n",
    "get_input = lambda volumes, masks, noise: volumes * masks + ~masks * noise\n",
    "# get_input = lambda volumes, masks, noise: volumes * masks"
   ]
  },
  {
   "cell_type": "code",
   "execution_count": 5,
   "id": "ebf696c9-dc3c-4d12-a530-232c0cc93901",
   "metadata": {},
   "outputs": [
    {
     "name": "stdout",
     "output_type": "stream",
     "text": [
      "Epoch 0\n"
     ]
    },
    {
     "data": {
      "application/vnd.jupyter.widget-view+json": {
       "model_id": "2370a60462b34412957c644ab724de21",
       "version_major": 2,
       "version_minor": 0
      },
      "text/plain": [
       "  0%|          | 0/110 [00:00<?, ?it/s]"
      ]
     },
     "metadata": {},
     "output_type": "display_data"
    },
    {
     "name": "stderr",
     "output_type": "stream",
     "text": [
      "../aten/src/ATen/native/cuda/Loss.cu:250: nll_loss_forward_reduce_cuda_kernel_2d: block: [0,0,0], thread: [1,0,0] Assertion `t >= 0 && t < n_classes` failed.\n",
      "../aten/src/ATen/native/cuda/Loss.cu:250: nll_loss_forward_reduce_cuda_kernel_2d: block: [0,0,0], thread: [3,0,0] Assertion `t >= 0 && t < n_classes` failed.\n",
      "../aten/src/ATen/native/cuda/Loss.cu:250: nll_loss_forward_reduce_cuda_kernel_2d: block: [0,0,0], thread: [5,0,0] Assertion `t >= 0 && t < n_classes` failed.\n",
      "../aten/src/ATen/native/cuda/Loss.cu:250: nll_loss_forward_reduce_cuda_kernel_2d: block: [0,0,0], thread: [6,0,0] Assertion `t >= 0 && t < n_classes` failed.\n",
      "../aten/src/ATen/native/cuda/Loss.cu:250: nll_loss_forward_reduce_cuda_kernel_2d: block: [0,0,0], thread: [7,0,0] Assertion `t >= 0 && t < n_classes` failed.\n"
     ]
    },
    {
     "ename": "RuntimeError",
     "evalue": "CUDA error: device-side assert triggered\nCUDA kernel errors might be asynchronously reported at some other API call, so the stacktrace below might be incorrect.\nFor debugging consider passing CUDA_LAUNCH_BLOCKING=1.\nCompile with `TORCH_USE_CUDA_DSA` to enable device-side assertions.\n",
     "output_type": "error",
     "traceback": [
      "\u001b[0;31m---------------------------------------------------------------------------\u001b[0m",
      "\u001b[0;31mRuntimeError\u001b[0m                              Traceback (most recent call last)",
      "Cell \u001b[0;32mIn[5], line 20\u001b[0m\n\u001b[1;32m     17\u001b[0m out \u001b[38;5;241m=\u001b[39m model(get_input(volumes, masks, noise)\u001b[38;5;241m.\u001b[39mto(device))\n\u001b[1;32m     19\u001b[0m loss \u001b[38;5;241m=\u001b[39m criterion(out, labels\u001b[38;5;241m.\u001b[39mtype(torch\u001b[38;5;241m.\u001b[39mLongTensor)\u001b[38;5;241m.\u001b[39mto(device))\n\u001b[0;32m---> 20\u001b[0m \u001b[43mloss\u001b[49m\u001b[38;5;241;43m.\u001b[39;49m\u001b[43mbackward\u001b[49m\u001b[43m(\u001b[49m\u001b[43m)\u001b[49m\n\u001b[1;32m     22\u001b[0m optimizer\u001b[38;5;241m.\u001b[39mstep()\n\u001b[1;32m     23\u001b[0m optimizer\u001b[38;5;241m.\u001b[39mzero_grad()\n",
      "File \u001b[0;32m~/context/lib/python3.10/site-packages/torch/_tensor.py:522\u001b[0m, in \u001b[0;36mTensor.backward\u001b[0;34m(self, gradient, retain_graph, create_graph, inputs)\u001b[0m\n\u001b[1;32m    512\u001b[0m \u001b[38;5;28;01mif\u001b[39;00m has_torch_function_unary(\u001b[38;5;28mself\u001b[39m):\n\u001b[1;32m    513\u001b[0m     \u001b[38;5;28;01mreturn\u001b[39;00m handle_torch_function(\n\u001b[1;32m    514\u001b[0m         Tensor\u001b[38;5;241m.\u001b[39mbackward,\n\u001b[1;32m    515\u001b[0m         (\u001b[38;5;28mself\u001b[39m,),\n\u001b[0;32m   (...)\u001b[0m\n\u001b[1;32m    520\u001b[0m         inputs\u001b[38;5;241m=\u001b[39minputs,\n\u001b[1;32m    521\u001b[0m     )\n\u001b[0;32m--> 522\u001b[0m \u001b[43mtorch\u001b[49m\u001b[38;5;241;43m.\u001b[39;49m\u001b[43mautograd\u001b[49m\u001b[38;5;241;43m.\u001b[39;49m\u001b[43mbackward\u001b[49m\u001b[43m(\u001b[49m\n\u001b[1;32m    523\u001b[0m \u001b[43m    \u001b[49m\u001b[38;5;28;43mself\u001b[39;49m\u001b[43m,\u001b[49m\u001b[43m \u001b[49m\u001b[43mgradient\u001b[49m\u001b[43m,\u001b[49m\u001b[43m \u001b[49m\u001b[43mretain_graph\u001b[49m\u001b[43m,\u001b[49m\u001b[43m \u001b[49m\u001b[43mcreate_graph\u001b[49m\u001b[43m,\u001b[49m\u001b[43m \u001b[49m\u001b[43minputs\u001b[49m\u001b[38;5;241;43m=\u001b[39;49m\u001b[43minputs\u001b[49m\n\u001b[1;32m    524\u001b[0m \u001b[43m\u001b[49m\u001b[43m)\u001b[49m\n",
      "File \u001b[0;32m~/context/lib/python3.10/site-packages/torch/autograd/__init__.py:259\u001b[0m, in \u001b[0;36mbackward\u001b[0;34m(tensors, grad_tensors, retain_graph, create_graph, grad_variables, inputs)\u001b[0m\n\u001b[1;32m    250\u001b[0m inputs \u001b[38;5;241m=\u001b[39m (\n\u001b[1;32m    251\u001b[0m     (inputs,)\n\u001b[1;32m    252\u001b[0m     \u001b[38;5;28;01mif\u001b[39;00m \u001b[38;5;28misinstance\u001b[39m(inputs, (torch\u001b[38;5;241m.\u001b[39mTensor, graph\u001b[38;5;241m.\u001b[39mGradientEdge))\n\u001b[0;32m   (...)\u001b[0m\n\u001b[1;32m    255\u001b[0m     \u001b[38;5;28;01melse\u001b[39;00m \u001b[38;5;28mtuple\u001b[39m()\n\u001b[1;32m    256\u001b[0m )\n\u001b[1;32m    258\u001b[0m grad_tensors_ \u001b[38;5;241m=\u001b[39m _tensor_or_tensors_to_tuple(grad_tensors, \u001b[38;5;28mlen\u001b[39m(tensors))\n\u001b[0;32m--> 259\u001b[0m grad_tensors_ \u001b[38;5;241m=\u001b[39m \u001b[43m_make_grads\u001b[49m\u001b[43m(\u001b[49m\u001b[43mtensors\u001b[49m\u001b[43m,\u001b[49m\u001b[43m \u001b[49m\u001b[43mgrad_tensors_\u001b[49m\u001b[43m,\u001b[49m\u001b[43m \u001b[49m\u001b[43mis_grads_batched\u001b[49m\u001b[38;5;241;43m=\u001b[39;49m\u001b[38;5;28;43;01mFalse\u001b[39;49;00m\u001b[43m)\u001b[49m\n\u001b[1;32m    260\u001b[0m \u001b[38;5;28;01mif\u001b[39;00m retain_graph \u001b[38;5;129;01mis\u001b[39;00m \u001b[38;5;28;01mNone\u001b[39;00m:\n\u001b[1;32m    261\u001b[0m     retain_graph \u001b[38;5;241m=\u001b[39m create_graph\n",
      "File \u001b[0;32m~/context/lib/python3.10/site-packages/torch/autograd/__init__.py:142\u001b[0m, in \u001b[0;36m_make_grads\u001b[0;34m(outputs, grads, is_grads_batched)\u001b[0m\n\u001b[1;32m    136\u001b[0m         msg \u001b[38;5;241m=\u001b[39m (\n\u001b[1;32m    137\u001b[0m             \u001b[38;5;124m\"\u001b[39m\u001b[38;5;124mgrad can be implicitly created only for real scalar outputs\u001b[39m\u001b[38;5;124m\"\u001b[39m\n\u001b[1;32m    138\u001b[0m             \u001b[38;5;124mf\u001b[39m\u001b[38;5;124m\"\u001b[39m\u001b[38;5;124m but got \u001b[39m\u001b[38;5;132;01m{\u001b[39;00mout\u001b[38;5;241m.\u001b[39mdtype\u001b[38;5;132;01m}\u001b[39;00m\u001b[38;5;124m\"\u001b[39m\n\u001b[1;32m    139\u001b[0m         )\n\u001b[1;32m    140\u001b[0m         \u001b[38;5;28;01mraise\u001b[39;00m \u001b[38;5;167;01mRuntimeError\u001b[39;00m(msg)\n\u001b[1;32m    141\u001b[0m     new_grads\u001b[38;5;241m.\u001b[39mappend(\n\u001b[0;32m--> 142\u001b[0m         \u001b[43mtorch\u001b[49m\u001b[38;5;241;43m.\u001b[39;49m\u001b[43mones_like\u001b[49m\u001b[43m(\u001b[49m\u001b[43mout\u001b[49m\u001b[43m,\u001b[49m\u001b[43m \u001b[49m\u001b[43mmemory_format\u001b[49m\u001b[38;5;241;43m=\u001b[39;49m\u001b[43mtorch\u001b[49m\u001b[38;5;241;43m.\u001b[39;49m\u001b[43mpreserve_format\u001b[49m\u001b[43m)\u001b[49m\n\u001b[1;32m    143\u001b[0m     )\n\u001b[1;32m    144\u001b[0m \u001b[38;5;28;01melse\u001b[39;00m:\n\u001b[1;32m    145\u001b[0m     new_grads\u001b[38;5;241m.\u001b[39mappend(\u001b[38;5;28;01mNone\u001b[39;00m)\n",
      "\u001b[0;31mRuntimeError\u001b[0m: CUDA error: device-side assert triggered\nCUDA kernel errors might be asynchronously reported at some other API call, so the stacktrace below might be incorrect.\nFor debugging consider passing CUDA_LAUNCH_BLOCKING=1.\nCompile with `TORCH_USE_CUDA_DSA` to enable device-side assertions.\n"
     ]
    }
   ],
   "source": [
    "stats = {}\n",
    "for epoch in range(0, 50):\n",
    "    metrics_train = {\n",
    "        \"loss\": [],\n",
    "        \"preds\": [],\n",
    "        \"labels\": [],\n",
    "    }\n",
    "    metrics_val = {\n",
    "        \"loss\": [],\n",
    "        \"preds\": [],\n",
    "        \"labels\": [],\n",
    "    }\n",
    "\n",
    "    print(f\"Epoch {epoch}\")\n",
    "    model.train()\n",
    "    for volumes, labels, masks, noise in tqdm(trainloader):\n",
    "        out = model(get_input(volumes, masks, noise).to(device))\n",
    "\n",
    "        loss = criterion(out, labels.type(torch.LongTensor).to(device))\n",
    "        loss.backward()\n",
    "\n",
    "        optimizer.step()\n",
    "        optimizer.zero_grad()\n",
    "\n",
    "        _, indices = torch.max(out.cpu(), 1)\n",
    "\n",
    "        metrics_train[\"loss\"].append(loss.cpu().detach().item())\n",
    "        metrics_train[\"preds\"].append(indices.detach().numpy())\n",
    "        metrics_train[\"labels\"].append(labels.numpy())\n",
    "\n",
    "    model.eval()\n",
    "    for volumes, labels, masks, noise in tqdm(valloader):\n",
    "        out = model(get_input(volumes, masks, noise).to(device))\n",
    "\n",
    "        with torch.no_grad():\n",
    "            loss = criterion(out, labels.type(torch.LongTensor).to(device))\n",
    "\n",
    "        _, indices = torch.max(out.cpu(), 1)\n",
    "\n",
    "        metrics_val[\"loss\"].append(loss.cpu().detach().item())\n",
    "        metrics_val[\"preds\"].append(indices.detach().numpy())\n",
    "        metrics_val[\"labels\"].append(labels.numpy())\n",
    "\n",
    "    performance = {\n",
    "        \"train_loss\": np.mean(metrics_train[\"loss\"]),\n",
    "        \"train_accuracy\": np.mean(\n",
    "            np.concatenate(metrics_train[\"preds\"])\n",
    "            == np.concatenate(metrics_train[\"labels\"])\n",
    "        ).item(),\n",
    "        \"val_loss\": np.mean(metrics_val[\"loss\"]),\n",
    "        \"val_accuracy\": np.mean(\n",
    "            np.concatenate(metrics_val[\"preds\"])\n",
    "            == np.concatenate(metrics_val[\"labels\"])\n",
    "        ).item(),\n",
    "    }\n",
    "    print(performance)\n",
    "    stats[epoch] = performance\n",
    "    break"
   ]
  },
  {
   "cell_type": "code",
   "execution_count": null,
   "id": "d32c3088-8c37-428c-a998-ef1673cd6f28",
   "metadata": {},
   "outputs": [],
   "source": [
    "# metrics_train[\"labels\"], \n",
    "metrics_val[\"labels\"]"
   ]
  },
  {
   "cell_type": "code",
   "execution_count": null,
   "id": "e8366fa2-dfc1-4f28-a65f-46c2d37d747c",
   "metadata": {},
   "outputs": [],
   "source": [
    "fig, (ax0, ax1) = plt.subplots(1, 2, figsize=(9, 3), dpi=150)\n",
    "\n",
    "ax0.plot(stats.keys(), [stats[epoch][\"train_loss\"] for epoch in stats])\n",
    "ax0.plot(stats.keys(), [stats[epoch][\"val_loss\"] for epoch in stats])\n",
    "ax0.set_title(\"CE Loss\")\n",
    "\n",
    "ax1.plot(stats.keys(), [stats[epoch][\"train_accuracy\"] * 100 for epoch in stats])\n",
    "ax1.plot(stats.keys(), [stats[epoch][\"val_accuracy\"] * 100 for epoch in stats])\n",
    "ax1.set_title(\"Accuracy\")\n",
    "plt.show()"
   ]
  },
  {
   "cell_type": "code",
   "execution_count": null,
   "id": "3c3ef34a-e23a-4a3c-8e33-aaa3a3468d0d",
   "metadata": {},
   "outputs": [],
   "source": [
    "dloader = get_dloader_noise(\"val\", 1, data_dir=data_dir, subset=subset, num_workers=0)\n",
    "model.eval();"
   ]
  },
  {
   "cell_type": "code",
   "execution_count": null,
   "id": "ad3b02e2-520e-426c-a7b8-be8187674a0c",
   "metadata": {},
   "outputs": [],
   "source": [
    "dloader_iter = iter(dloader)"
   ]
  },
  {
   "cell_type": "code",
   "execution_count": null,
   "id": "c23468d7-3f1c-40e1-a744-93841286d57a",
   "metadata": {},
   "outputs": [],
   "source": [
    "sns.reset_orig()\n",
    "volumes, labels, masks, noise = next(dloader_iter)\n",
    "volumes = get_input(volumes, masks, noise)\n",
    "\n",
    "slc, score, indices, out = get_saliency3d(model, volumes, device=device)\n",
    "obj_score = get_obj_score3d(slc, masks)\n",
    "\n",
    "slc_abs = np.abs(slc)\n",
    "\n",
    "show_volume(volumes.detach().numpy(), labels.item(), cmap=\"viridis\")\n",
    "show_volume(slc_abs / slc_abs.max(), cmap=\"inferno\")\n",
    "obj_score, indices.item(), labels.item()"
   ]
  }
 ],
 "metadata": {
  "kernelspec": {
   "display_name": "Python 3 (ipykernel)",
   "language": "python",
   "name": "python3"
  },
  "language_info": {
   "codemirror_mode": {
    "name": "ipython",
    "version": 3
   },
   "file_extension": ".py",
   "mimetype": "text/x-python",
   "name": "python",
   "nbconvert_exporter": "python",
   "pygments_lexer": "ipython3",
   "version": "3.10.13"
  }
 },
 "nbformat": 4,
 "nbformat_minor": 5
}
