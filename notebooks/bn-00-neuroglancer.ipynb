{
 "cells": [
  {
   "cell_type": "markdown",
   "id": "0a47bd96-7f73-4672-b98b-4a436982adbe",
   "metadata": {},
   "source": [
    "From https://github.com/google/neuroglancer/blob/master/python/examples/jupyter-notebook-demo.ipynb"
   ]
  },
  {
   "cell_type": "markdown",
   "id": "861e60db-347d-4241-b29c-9c346ca42c01",
   "metadata": {},
   "source": [
    "# Prerequisites"
   ]
  },
  {
   "cell_type": "code",
   "execution_count": 1,
   "id": "184cab4b-28df-45ef-8b2b-26d17c77e263",
   "metadata": {},
   "outputs": [],
   "source": [
    "import neuroglancer\n",
    "import numpy as np\n",
    "from skimage.io import imread"
   ]
  },
  {
   "cell_type": "markdown",
   "id": "8cfef022-8cf2-4985-b267-81223980b8c3",
   "metadata": {},
   "source": [
    "Create a new (initially empty) viewer.  This starts a webserver in a background thread, which serves a copy of the Neuroglancer client, and which also can serve local volume data and handles sending and receiving Neuroglancer state updates."
   ]
  },
  {
   "cell_type": "code",
   "execution_count": 2,
   "id": "eca21631-5306-44f5-a2ce-204cb74f747a",
   "metadata": {},
   "outputs": [],
   "source": [
    "viewer = neuroglancer.Viewer()"
   ]
  },
  {
   "cell_type": "markdown",
   "id": "b80ead43-57bc-4ea6-a473-54229d78fff0",
   "metadata": {},
   "source": [
    "Print a link to the viewer (only valid while the notebook kernel is running). Note that while the Viewer is running, anyone with the link can obtain any authentication credentials that the neuroglancer Python module obtains. Therefore, be very careful about sharing the link, and keep in mind that sharing the notebook will likely also share viewer links."
   ]
  },
  {
   "cell_type": "code",
   "execution_count": 3,
   "id": "e2d69076-005a-4ab0-a7e8-aa3aaf361043",
   "metadata": {},
   "outputs": [
    {
     "data": {
      "text/html": [
       "<a href=\"http://127.0.0.1:53045/v/354166b73aac639ad514cf49d78a640c6bd1524d/\" target=\"_blank\">Viewer</a>"
      ],
      "text/plain": [
       "http://127.0.0.1:53045/v/354166b73aac639ad514cf49d78a640c6bd1524d/"
      ]
     },
     "execution_count": 3,
     "metadata": {},
     "output_type": "execute_result"
    }
   ],
   "source": [
    "viewer"
   ]
  },
  {
   "cell_type": "code",
   "execution_count": 4,
   "id": "7f26a38a-dd17-484f-9aeb-9342e2683149",
   "metadata": {},
   "outputs": [
    {
     "name": "stdout",
     "output_type": "stream",
     "text": [
      "img dim: (128, 92, 92)\n"
     ]
    }
   ],
   "source": [
    "image_path = \"../data/BugNIST_DATA/validation/mix_02_006.tif\"\n",
    "img = imread(image_path)\n",
    "print(f\"img dim: {img.shape}\")"
   ]
  },
  {
   "cell_type": "code",
   "execution_count": 5,
   "id": "b3cc42e1-c076-496a-a69d-ed6527f9e9a9",
   "metadata": {},
   "outputs": [],
   "source": [
    "volume = neuroglancer.LocalVolume(\n",
    "    img,\n",
    "    dimensions=neuroglancer.CoordinateSpace(\n",
    "        names=[\"x\", \"y\", \"z\"],\n",
    "        units=\"\",\n",
    "        scales=[1, 1, 1],\n",
    "    )\n",
    ")\n",
    "with viewer.txn() as s:\n",
    "    s.layers[\"image\"] = neuroglancer.ImageLayer(\n",
    "        source=volume,\n",
    "        # Define a custom shader to display this mask array as red+alpha.\n",
    "#         shader=\"\"\"\n",
    "# void main() {\n",
    "#   float v = toNormalized(getDataValue(0)) * 255.0;\n",
    "#   emitRGBA(vec4(v, 0.0, 0.0, v));\n",
    "# }\n",
    "# \"\"\",\n",
    "    )"
   ]
  },
  {
   "cell_type": "markdown",
   "id": "37799ec9-e8c5-4621-9514-58ead9f99a87",
   "metadata": {},
   "source": [
    "Add some example layers using the precomputed data source (HHMI Janelia FlyEM FIB-25 dataset)."
   ]
  },
  {
   "cell_type": "code",
   "execution_count": 5,
   "id": "09748dc5-b5dd-4765-a4d5-51bd743573da",
   "metadata": {},
   "outputs": [],
   "source": [
    "# with viewer.txn() as s:\n",
    "#     s.layers[\"image\"] = neuroglancer.ImageLayer(\n",
    "#         source=\"../data/BugNIST_DATA/validation/mix_02_006.tif\"\n",
    "#     )\n",
    "#     # s.layers['image'] = neuroglancer.ImageLayer(source='precomputed://gs://neuroglancer-public-data/flyem_fib-25/image')\n",
    "#     # s.layers[\"segmentation\"] = neuroglancer.SegmentationLayer(\n",
    "#     #     source=\"precomputed://gs://neuroglancer-public-data/flyem_fib-25/ground_truth\",\n",
    "#     #     selected_alpha=0.3,\n",
    "#     # )"
   ]
  },
  {
   "cell_type": "markdown",
   "id": "bd95af7e-5eb1-4921-b553-9cfc31593b68",
   "metadata": {},
   "source": [
    "Display a numpy array as an additional layer.  A reference to the numpy array is kept only as long as the layer remains in the viewer."
   ]
  },
  {
   "cell_type": "markdown",
   "id": "173a04b4-aab3-42ae-84eb-5214e1c2e9b0",
   "metadata": {},
   "source": [
    "Move the viewer position."
   ]
  },
  {
   "cell_type": "code",
   "execution_count": 6,
   "id": "0d795ca8-5e73-4d10-b418-3269b0101a75",
   "metadata": {},
   "outputs": [],
   "source": [
    "with viewer.txn() as s:\n",
    "    s.voxel_coordinates = [150, 0, 0]"
   ]
  },
  {
   "cell_type": "markdown",
   "id": "90e38bcc-c7e2-49c8-aa81-23c29f3612f3",
   "metadata": {},
   "source": [
    "Hide the segmentation layer."
   ]
  },
  {
   "cell_type": "code",
   "execution_count": 8,
   "id": "5754524a-2f15-4663-a558-3c1985cd5e02",
   "metadata": {},
   "outputs": [],
   "source": [
    "# with viewer.txn() as s:\n",
    "#     s.layers[\"segmentation\"].visible = False"
   ]
  },
  {
   "cell_type": "code",
   "execution_count": 8,
   "id": "9a6d66f5-9116-4007-89ba-082b66b7ab2d",
   "metadata": {},
   "outputs": [],
   "source": [
    "# import tensorstore as ts\n",
    "\n",
    "# image_vol = await ts.open(\n",
    "#     {\n",
    "#         \"driver\": \"neuroglancer_precomputed\",\n",
    "#         \"kvstore\": \"gs://neuroglancer-public-data/flyem_fib-25/image/\",\n",
    "#     }\n",
    "# )\n",
    "# a = np.zeros((200, 200, 200), np.uint8)\n",
    "\n",
    "\n",
    "# def make_thresholded(threshold):\n",
    "#     a[...] = (\n",
    "#         image_vol[3000:3200, 3000:3200, 3000:3200][..., 0].read().result() > threshold\n",
    "#     )\n",
    "\n",
    "\n",
    "# make_thresholded(110)\n",
    "# # This volume handle can be used to notify the viewer that the data has changed.\n",
    "# volume = neuroglancer.LocalVolume(\n",
    "#     a,\n",
    "#     dimensions=neuroglancer.CoordinateSpace(\n",
    "#         names=[\"x\", \"y\", \"z\"],\n",
    "#         units=\"nm\",\n",
    "#         scales=[8, 8, 8],\n",
    "#     ),\n",
    "#     voxel_offset=[3000, 3000, 3000],\n",
    "# )\n",
    "# with viewer.txn() as s:\n",
    "#     s.layers[\"overlay\"] = neuroglancer.ImageLayer(\n",
    "#         source=volume,\n",
    "#         # Define a custom shader to display this mask array as red+alpha.\n",
    "#         shader=\"\"\"\n",
    "# void main() {\n",
    "#   float v = toNormalized(getDataValue(0)) * 255.0;\n",
    "#   emitRGBA(vec4(v, 0.0, 0.0, v));\n",
    "# }\n",
    "# \"\"\",\n",
    "#     )"
   ]
  },
  {
   "cell_type": "code",
   "execution_count": 9,
   "id": "af857f5e-423f-480c-ab96-664be234c658",
   "metadata": {},
   "outputs": [],
   "source": [
    "volume = neuroglancer.LocalVolume(\n",
    "    img,\n",
    "    dimensions=neuroglancer.CoordinateSpace(\n",
    "        names=[\"x\", \"y\", \"z\"],\n",
    "        units=\"\",\n",
    "        scales=[1, 1, 1],\n",
    "    )\n",
    ")\n",
    "with viewer.txn() as s:\n",
    "    s.layers[\"overlay\"] = neuroglancer.ImageLayer(\n",
    "        source=volume,\n",
    "        # Define a custom shader to display this mask array as red+alpha.\n",
    "        shader=\"\"\"\n",
    "void main() {\n",
    "  float v = toNormalized(getDataValue(0)) * 255.0;\n",
    "  emitRGBA(vec4(v, 0.0, 0.0, v));\n",
    "}\n",
    "\"\"\",\n",
    "    )"
   ]
  },
  {
   "cell_type": "markdown",
   "id": "6dae947b-3751-4394-8d3d-fb98a13f568f",
   "metadata": {},
   "source": [
    "Modify the overlay volume, and call `invalidate()` to notify the Neuroglancer client."
   ]
  },
  {
   "cell_type": "code",
   "execution_count": 10,
   "id": "54f9d3e4-3721-406c-801e-bcf77d9c8fdc",
   "metadata": {},
   "outputs": [],
   "source": [
    "make_thresholded(100)\n",
    "volume.invalidate()"
   ]
  },
  {
   "cell_type": "markdown",
   "id": "dd147a64-c53c-4290-acfd-cdba54be66d0",
   "metadata": {},
   "source": [
    "Select a couple segments."
   ]
  },
  {
   "cell_type": "code",
   "execution_count": 11,
   "id": "92668bdb-a80d-462b-9d85-6ab184a4018c",
   "metadata": {},
   "outputs": [
    {
     "ename": "AttributeError",
     "evalue": "'VisibleSegments' object has no attribute 'update'",
     "output_type": "error",
     "traceback": [
      "\u001b[1;31m---------------------------------------------------------------------------\u001b[0m",
      "\u001b[1;31mAttributeError\u001b[0m                            Traceback (most recent call last)",
      "Cell \u001b[1;32mIn[11], line 2\u001b[0m\n\u001b[0;32m      1\u001b[0m \u001b[38;5;28;01mwith\u001b[39;00m viewer\u001b[38;5;241m.\u001b[39mtxn() \u001b[38;5;28;01mas\u001b[39;00m s:\n\u001b[1;32m----> 2\u001b[0m     \u001b[43ms\u001b[49m\u001b[38;5;241;43m.\u001b[39;49m\u001b[43mlayers\u001b[49m\u001b[43m[\u001b[49m\u001b[38;5;124;43m\"\u001b[39;49m\u001b[38;5;124;43msegmentation\u001b[39;49m\u001b[38;5;124;43m\"\u001b[39;49m\u001b[43m]\u001b[49m\u001b[38;5;241;43m.\u001b[39;49m\u001b[43msegments\u001b[49m\u001b[38;5;241;43m.\u001b[39;49m\u001b[43mupdate\u001b[49m([\u001b[38;5;241m1752\u001b[39m, \u001b[38;5;241m88847\u001b[39m])\n\u001b[0;32m      3\u001b[0m     s\u001b[38;5;241m.\u001b[39mlayers[\u001b[38;5;124m\"\u001b[39m\u001b[38;5;124msegmentation\u001b[39m\u001b[38;5;124m\"\u001b[39m]\u001b[38;5;241m.\u001b[39mvisible \u001b[38;5;241m=\u001b[39m \u001b[38;5;28;01mTrue\u001b[39;00m\n",
      "\u001b[1;31mAttributeError\u001b[0m: 'VisibleSegments' object has no attribute 'update'"
     ]
    }
   ],
   "source": [
    "# with viewer.txn() as s:\n",
    "#     s.layers[\"segmentation\"].segments.update([1752, 88847])\n",
    "#     s.layers[\"segmentation\"].visible = True"
   ]
  },
  {
   "cell_type": "markdown",
   "id": "cb477f3d-46e0-4376-bf64-b72da10c959a",
   "metadata": {},
   "source": [
    "Print the neuroglancer viewer state.  The Neuroglancer Python library provides a set of Python objects that wrap the JSON-encoded viewer state.  `viewer.state` returns a read-only snapshot of the state.  To modify the state, use the `viewer.txn()` function, or `viewer.set_state`."
   ]
  },
  {
   "cell_type": "code",
   "execution_count": 12,
   "id": "88534e6a-3ee8-49a1-b75b-be4484783e21",
   "metadata": {},
   "outputs": [
    {
     "data": {
      "text/plain": [
       "ViewerState({\"layers\": [{\"type\": \"image\", \"source\": [{\"url\": \"precomputed://gs://neuroglancer-public-data/flyem_fib-25/image\"}], \"name\": \"image\"}, {\"type\": \"segmentation\", \"source\": [{\"url\": \"precomputed://gs://neuroglancer-public-data/flyem_fib-25/ground_truth\"}], \"selectedAlpha\": 0.3, \"name\": \"segmentation\", \"visible\": false}, {\"type\": \"image\", \"source\": [{\"url\": \"python://volume/7a0bf3c4854bfd281a59c83d66ac820a49ea1348.fd6b9d63db3b05522fbb536c51eeaad902e4c923\"}], \"shader\": \"\\nvoid main() {\\n  float v = toNormalized(getDataValue(0)) * 255.0;\\n  emitRGBA(vec4(v, 0.0, 0.0, v));\\n}\\n\", \"name\": \"overlay\"}], \"layout\": \"3d\", \"projectionScale\": 3000.0, \"position\": [3000.5, 3000.5, 3000.5]})"
      ]
     },
     "execution_count": 12,
     "metadata": {},
     "output_type": "execute_result"
    }
   ],
   "source": [
    "viewer.state"
   ]
  },
  {
   "cell_type": "markdown",
   "id": "cd8cdc22-7a1c-4697-ab4d-43e63dc9427b",
   "metadata": {},
   "source": [
    "Print the set of selected segments.|"
   ]
  },
  {
   "cell_type": "code",
   "execution_count": 13,
   "id": "ef861fad-2fab-4d1e-b29a-bc98e00f161e",
   "metadata": {},
   "outputs": [
    {
     "data": {
      "text/plain": [
       "VisibleSegments([])"
      ]
     },
     "execution_count": 13,
     "metadata": {},
     "output_type": "execute_result"
    }
   ],
   "source": [
    "viewer.state.layers[\"segmentation\"].segments"
   ]
  },
  {
   "cell_type": "markdown",
   "id": "c2ff240e-3dc7-448e-ae4e-58e7a7aad335",
   "metadata": {},
   "source": [
    "Update the state by calling `set_state` directly."
   ]
  },
  {
   "cell_type": "code",
   "execution_count": 14,
   "id": "263facf6-3244-4c97-8d5e-078817c03d71",
   "metadata": {},
   "outputs": [
    {
     "data": {
      "text/plain": [
       "'1f1c428dd01dd76868d171455462e462aa10630e'"
      ]
     },
     "execution_count": 14,
     "metadata": {},
     "output_type": "execute_result"
    }
   ],
   "source": [
    "import copy\n",
    "\n",
    "new_state = copy.deepcopy(viewer.state)\n",
    "new_state.layers[\"segmentation\"].segments.add(10625)\n",
    "viewer.set_state(new_state)"
   ]
  },
  {
   "cell_type": "markdown",
   "id": "970f5aef-984a-4874-a645-3a1f440ba122",
   "metadata": {},
   "source": [
    "Bind the 't' key in neuroglancer to a Python action."
   ]
  },
  {
   "cell_type": "code",
   "execution_count": 15,
   "id": "63e42bfa-588b-4bac-9761-f893c872bbde",
   "metadata": {},
   "outputs": [],
   "source": [
    "num_actions = 0\n",
    "\n",
    "\n",
    "def my_action(s):\n",
    "    global num_actions\n",
    "    num_actions += 1\n",
    "    with viewer.config_state.txn() as st:\n",
    "        st.status_messages[\"hello\"] = \"Got action %d: mouse position = %r\" % (\n",
    "            num_actions,\n",
    "            s.mouse_voxel_coordinates,\n",
    "        )\n",
    "    print(\"Got my-action\")\n",
    "    print(f\"  Mouse position: {s.mouse_voxel_coordinates}\")\n",
    "    print(f\"  Layer selected values: {s.selected_values}\")\n",
    "\n",
    "\n",
    "viewer.actions.add(\"my-action\", my_action)\n",
    "with viewer.config_state.txn() as s:\n",
    "    s.input_event_bindings.viewer[\"keyt\"] = \"my-action\"\n",
    "    s.status_messages[\"hello\"] = \"Welcome to this example\""
   ]
  },
  {
   "cell_type": "markdown",
   "id": "8d22a2a8-eede-4467-9c5f-f9843d424783",
   "metadata": {},
   "source": [
    "Change the view layout to 3-d."
   ]
  },
  {
   "cell_type": "code",
   "execution_count": 16,
   "id": "9d0f2b69-7cba-4883-bb63-44ad22634991",
   "metadata": {},
   "outputs": [],
   "source": [
    "with viewer.txn() as s:\n",
    "    s.layout = \"3d\"\n",
    "    s.projection_scale = 3000"
   ]
  },
  {
   "cell_type": "markdown",
   "id": "389bb685-7e6b-47f0-8a65-93d1eb378bcb",
   "metadata": {},
   "source": [
    "Take a screenshot (useful for creating publication figures, or for generating videos).  While capturing the screenshot, we hide the UI and specify the viewer size so that we get a result independent of the browser size."
   ]
  },
  {
   "cell_type": "code",
   "execution_count": 17,
   "id": "60aceae9-9dfe-470d-941c-1c27e2feabcf",
   "metadata": {},
   "outputs": [
    {
     "data": {
      "application/vnd.jupyter.widget-view+json": {
       "model_id": "19953eda1c1d4b6b8ccb48cd0c464ee3",
       "version_major": 2,
       "version_minor": 0
      },
      "text/plain": [
       "Image(value=b'\\x89PNG\\r\\n\\x1a\\n\\x00\\x00\\x00\\rIHDR\\x00\\x00\\x03\\xe8\\x00\\x00\\x03\\xe8\\x08\\x06\\x00\\x00\\x00M\\xa3\\xd4…"
      ]
     },
     "execution_count": 17,
     "metadata": {},
     "output_type": "execute_result"
    }
   ],
   "source": [
    "# from ipywidgets import Image\n",
    "\n",
    "# screenshot = viewer.screenshot(size=[1000, 1000])\n",
    "# screenshot_image = Image(value=screenshot.screenshot.image)\n",
    "# screenshot_image"
   ]
  },
  {
   "cell_type": "markdown",
   "id": "146150ee-e6b4-45c0-a479-cf94b79989d0",
   "metadata": {},
   "source": [
    "Change the view layout to show the segmentation side by side with the image, rather than overlayed.  This can also be done from the UI by dragging and dropping.  The side by side views by default have synchronized position, orientation, and zoom level, but this can be changed."
   ]
  },
  {
   "cell_type": "code",
   "execution_count": 18,
   "id": "79ae7846-8855-4533-b10d-0c8552bea322",
   "metadata": {},
   "outputs": [],
   "source": [
    "# with viewer.txn() as s:\n",
    "#     s.layout = neuroglancer.row_layout(\n",
    "#         [\n",
    "#             neuroglancer.LayerGroupViewer(layers=[\"image\", \"overlay\"]),\n",
    "#             neuroglancer.LayerGroupViewer(layers=[\"segmentation\"]),\n",
    "#         ]\n",
    "#     )"
   ]
  },
  {
   "cell_type": "markdown",
   "id": "ba151488-6254-4b02-9986-eaefde19c3b9",
   "metadata": {},
   "source": [
    "Remove the overlay layer."
   ]
  },
  {
   "cell_type": "code",
   "execution_count": 19,
   "id": "df190adb-6ac7-4df3-aa35-9d4694332ae2",
   "metadata": {},
   "outputs": [],
   "source": [
    "# with viewer.txn() as s:\n",
    "#     s.layout = neuroglancer.row_layout(\n",
    "#         [\n",
    "#             neuroglancer.LayerGroupViewer(layers=[\"image\"]),\n",
    "#             neuroglancer.LayerGroupViewer(layers=[\"segmentation\"]),\n",
    "#         ]\n",
    "#     )"
   ]
  },
  {
   "cell_type": "markdown",
   "id": "0f4442f7-060a-42cc-b5da-96f99a001d93",
   "metadata": {},
   "source": [
    "Create a publicly sharable URL to the viewer state (only works for external data sources, not layers served from Python).  The Python objects for representing the viewer state (`neuroglancer.ViewerState` and friends) can also be used independently from the interactive Python-tied viewer to create Neuroglancer links."
   ]
  },
  {
   "cell_type": "code",
   "execution_count": null,
   "id": "d57ca7c7-bca0-4928-a483-d7f305d588ce",
   "metadata": {},
   "outputs": [],
   "source": [
    "# print(neuroglancer.to_url(viewer.state))"
   ]
  },
  {
   "cell_type": "markdown",
   "id": "057f358f-081b-4d9e-913a-a30e8f3edad0",
   "metadata": {},
   "source": [
    "Stop the Neuroglancer web server, which invalidates any existing links to the Python-tied viewer."
   ]
  },
  {
   "cell_type": "code",
   "execution_count": null,
   "id": "bb3e94f3-ad76-43d8-a675-84d507565f37",
   "metadata": {},
   "outputs": [],
   "source": [
    "neuroglancer.stop()"
   ]
  },
  {
   "cell_type": "code",
   "execution_count": null,
   "id": "53ce4d98-aa5b-4725-a28e-48ce941d327d",
   "metadata": {},
   "outputs": [],
   "source": []
  }
 ],
 "metadata": {
  "kernelspec": {
   "display_name": "Python 3 (ipykernel)",
   "language": "python",
   "name": "python3"
  },
  "language_info": {
   "codemirror_mode": {
    "name": "ipython",
    "version": 3
   },
   "file_extension": ".py",
   "mimetype": "text/x-python",
   "name": "python",
   "nbconvert_exporter": "python",
   "pygments_lexer": "ipython3",
   "version": "3.12.1"
  }
 },
 "nbformat": 4,
 "nbformat_minor": 5
}
