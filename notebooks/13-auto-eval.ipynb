{
 "cells": [
  {
   "cell_type": "markdown",
   "id": "aa13f0a3-f882-467d-bd29-e66662f2affb",
   "metadata": {},
   "source": [
    "# Prerequisites"
   ]
  },
  {
   "cell_type": "code",
   "execution_count": 1,
   "id": "d240e321-f73f-4443-b43c-526e493606b9",
   "metadata": {},
   "outputs": [],
   "source": [
    "import sys\n",
    "\n",
    "sys.path.append(\"..\")"
   ]
  },
  {
   "cell_type": "code",
   "execution_count": 2,
   "id": "5fc91c26-2b18-4f15-ba6f-928ab23920bf",
   "metadata": {},
   "outputs": [
    {
     "name": "stderr",
     "output_type": "stream",
     "text": [
      "C:\\Users\\runes\\.conda\\envs\\context\\Lib\\site-packages\\torchvision\\transforms\\v2\\_deprecated.py:41: UserWarning: The transform `ToTensor()` is deprecated and will be removed in a future release. Instead, please use `v2.Compose([v2.ToImage(), v2.ToDtype(torch.float32, scale=True)])`.\n",
      "  warnings.warn(\n"
     ]
    }
   ],
   "source": [
    "import argparse\n",
    "import os\n",
    "import time\n",
    "\n",
    "import matplotlib.pyplot as plt\n",
    "import numpy as np\n",
    "import pandas as pd\n",
    "import torch\n",
    "from IPython.display import display\n",
    "from torchvision.models import resnet18, resnet50\n",
    "from tqdm.notebook import tqdm\n",
    "\n",
    "from dataset import (\n",
    "    get_dloader,\n",
    "    normalize_hw,\n",
    "    normalize_hw_mask,\n",
    "    normalize_inv_hw,\n",
    "    normalize_inv_hw_mask,\n",
    ")\n",
    "from perlin import get_rgb_fractal_noise\n",
    "from util import eval_step, get_obj_score, get_performance, get_saliency"
   ]
  },
  {
   "cell_type": "code",
   "execution_count": 3,
   "id": "0cdf6476-4a45-439d-bc4e-a99b154a2c9b",
   "metadata": {},
   "outputs": [
    {
     "name": "stdout",
     "output_type": "stream",
     "text": [
      "Using device: cuda\n"
     ]
    }
   ],
   "source": [
    "data_dir = \"../data\"\n",
    "class_legend = (\"Siberian Husky\", \"Grey Wolf\")\n",
    "model_types = {\"r18\": \"ResNet 18\", \"r50\": \"Resnet 50\"}\n",
    "\n",
    "device = \"cuda\" if torch.cuda.is_available() else \"cpu\"\n",
    "\n",
    "print(f\"Using device: {device}\")\n",
    "\n",
    "\n",
    "def get_model(model_type, device=\"cpu\", seed=191510):\n",
    "    torch.manual_seed(seed)\n",
    "    if model_type == \"r18\":\n",
    "        model = resnet18(weights=None)\n",
    "    elif model_type == \"r50\":\n",
    "        model = resnet50(weights=None)\n",
    "    model.fc = torch.nn.Linear(\n",
    "        in_features=model.fc.in_features, out_features=len(class_legend), bias=True\n",
    "    )\n",
    "    model.to(device)\n",
    "    return model"
   ]
  },
  {
   "cell_type": "markdown",
   "id": "f09371f7-489c-429e-a5fc-c8ffb4977fa7",
   "metadata": {},
   "source": [
    "# Evaluation"
   ]
  },
  {
   "cell_type": "code",
   "execution_count": 4,
   "id": "f4db29c6-0a6e-4ce7-a09b-eb5461efd19d",
   "metadata": {},
   "outputs": [
    {
     "name": "stdout",
     "output_type": "stream",
     "text": [
      "{'a': 'r18_e265_best.cpt', 'b': 'r18_e413_best.cpt', 'c': 'r18_e830_best.cpt'}\n"
     ]
    },
    {
     "data": {
      "application/vnd.jupyter.widget-view+json": {
       "model_id": "fd158edb2b4b4348bd33a1fb04e517f3",
       "version_major": 2,
       "version_minor": 0
      },
      "text/plain": [
       "  0%|          | 0/100 [00:00<?, ?it/s]"
      ]
     },
     "metadata": {},
     "output_type": "display_data"
    }
   ],
   "source": [
    "model_type = \"r18\"\n",
    "split = \"val\"\n",
    "# run_dir = \"../models/hw-checkpoints/run-20240314-213449\"\n",
    "# run_dir = \"../models/hw-checkpoints/run-20240317-161421\"\n",
    "# run_dir = \"../models/hw-checkpoints/run-20240318-153036\" # r18 perlin patient\n",
    "# run_dir = \"../models/hw-checkpoints/run-20240403-154614\" # r18 sp loss test\n",
    "# run_dir = \"../models/hw-checkpoints/run-20240403-172544\" # r18 sp loss full\n",
    "# run_dir = \"../models/hw-checkpoints/run-20240404-152631\" # r18 sp loss full finished\n",
    "# run_dir = \"../models/hw-checkpoints/run-20240424-172447\" # r18 sp geometric FAIL\n",
    "# run_dir = \"../models/hw-checkpoints/run-20240425-160254\" # r18 sp geometric\n",
    "# run_dir = \"../models/hw-checkpoints/run-20240425-224854\" # r18 sp constant x4\n",
    "run_dir = \"../models/hw-checkpoints/run-20240426-110315\" # r18 sp constant x0.25\n",
    "\n",
    "\n",
    "names = [p for p in os.listdir(run_dir) if os.path.isdir(f\"{run_dir}/{p}\")]\n",
    "models = {name: get_model(model_type, device=device) for name in names}\n",
    "\n",
    "cpts = {}\n",
    "for name in names:\n",
    "    m_cpts = os.listdir(f\"{run_dir}/{name}\")\n",
    "    max_epoch = -1\n",
    "    for cpt in m_cpts:\n",
    "        if \"best\" in cpt:\n",
    "            cpts[name] = cpt\n",
    "            break\n",
    "        epoch = int(cpt.split(\"_\")[1].split(\".\")[0][1:])\n",
    "        if epoch > max_epoch:\n",
    "            cpts[name] = cpt\n",
    "            max_epoch = epoch\n",
    "print(cpts)\n",
    "\n",
    "for name in models:\n",
    "    checkpoint = torch.load(f\"{run_dir}/{name}/{cpts[name]}\")\n",
    "    models[name].load_state_dict(checkpoint[\"model_state_dict\"])\n",
    "    models[name].eval()\n",
    "\n",
    "all_labels = []\n",
    "all_preds = {i + j: list() for i in models for j in models}\n",
    "all_obj_scores = {i + j: list() for i in models for j in models}\n",
    "\n",
    "dloader = get_dloader(split, batch_size=1, data_dir='../data', noise=True, num_workers=0)\n",
    "\n",
    "for imgs, labels, masks, noise in tqdm(dloader):\n",
    "    im, label, mask = imgs[0], labels[0], masks[0]\n",
    "    \n",
    "    inputs = {\"a\": normalize_hw(imgs), \"b\": normalize_hw_mask(imgs) * masks, \"c\": normalize_hw_mask(imgs * masks + noise * (~masks))}\n",
    "\n",
    "    for k_model in models:\n",
    "        for k, v in inputs.items():\n",
    "            slc, _, indices, _ = get_saliency(models[k_model], v, device=device)\n",
    "            all_obj_scores[k_model + k].append(get_obj_score(slc, masks))\n",
    "            all_preds[k_model + k].append(indices.item())\n",
    "\n",
    "    all_labels.append(label.item())\n",
    "\n",
    "all_labels = np.array(all_labels)\n",
    "for k, v in all_preds.items():\n",
    "    all_preds[k] = np.array(v)\n",
    "\n",
    "for k, v in all_obj_scores.items():\n",
    "    all_obj_scores[k] = np.array(v)\n"
   ]
  },
  {
   "cell_type": "code",
   "execution_count": 5,
   "id": "4f307002-b806-4c3c-873b-3d958d570704",
   "metadata": {},
   "outputs": [
    {
     "name": "stdout",
     "output_type": "stream",
     "text": [
      "Accuracy\n"
     ]
    },
    {
     "data": {
      "text/html": [
       "<div>\n",
       "<style scoped>\n",
       "    .dataframe tbody tr th:only-of-type {\n",
       "        vertical-align: middle;\n",
       "    }\n",
       "\n",
       "    .dataframe tbody tr th {\n",
       "        vertical-align: top;\n",
       "    }\n",
       "\n",
       "    .dataframe thead th {\n",
       "        text-align: right;\n",
       "    }\n",
       "</style>\n",
       "<table border=\"1\" class=\"dataframe\">\n",
       "  <thead>\n",
       "    <tr style=\"text-align: right;\">\n",
       "      <th></th>\n",
       "      <th>A</th>\n",
       "      <th>B</th>\n",
       "      <th>C</th>\n",
       "    </tr>\n",
       "  </thead>\n",
       "  <tbody>\n",
       "    <tr>\n",
       "      <th>natural</th>\n",
       "      <td>0.91</td>\n",
       "      <td>0.64</td>\n",
       "      <td>0.88</td>\n",
       "    </tr>\n",
       "    <tr>\n",
       "      <th>masked</th>\n",
       "      <td>0.80</td>\n",
       "      <td>0.92</td>\n",
       "      <td>0.95</td>\n",
       "    </tr>\n",
       "    <tr>\n",
       "      <th>masked+noise</th>\n",
       "      <td>0.82</td>\n",
       "      <td>0.59</td>\n",
       "      <td>0.95</td>\n",
       "    </tr>\n",
       "  </tbody>\n",
       "</table>\n",
       "</div>"
      ],
      "text/plain": [
       "                 A     B     C\n",
       "natural       0.91  0.64  0.88\n",
       "masked        0.80  0.92  0.95\n",
       "masked+noise  0.82  0.59  0.95"
      ]
     },
     "metadata": {},
     "output_type": "display_data"
    },
    {
     "name": "stdout",
     "output_type": "stream",
     "text": [
      "Object score\n"
     ]
    },
    {
     "data": {
      "text/html": [
       "<div>\n",
       "<style scoped>\n",
       "    .dataframe tbody tr th:only-of-type {\n",
       "        vertical-align: middle;\n",
       "    }\n",
       "\n",
       "    .dataframe tbody tr th {\n",
       "        vertical-align: top;\n",
       "    }\n",
       "\n",
       "    .dataframe thead th {\n",
       "        text-align: right;\n",
       "    }\n",
       "</style>\n",
       "<table border=\"1\" class=\"dataframe\">\n",
       "  <thead>\n",
       "    <tr style=\"text-align: right;\">\n",
       "      <th></th>\n",
       "      <th>A</th>\n",
       "      <th>B</th>\n",
       "      <th>C</th>\n",
       "    </tr>\n",
       "  </thead>\n",
       "  <tbody>\n",
       "    <tr>\n",
       "      <th>natural</th>\n",
       "      <td>0.721184</td>\n",
       "      <td>0.656176</td>\n",
       "      <td>0.738898</td>\n",
       "    </tr>\n",
       "    <tr>\n",
       "      <th>masked</th>\n",
       "      <td>0.835920</td>\n",
       "      <td>0.832879</td>\n",
       "      <td>0.912102</td>\n",
       "    </tr>\n",
       "    <tr>\n",
       "      <th>masked+noise</th>\n",
       "      <td>0.772350</td>\n",
       "      <td>0.644096</td>\n",
       "      <td>0.907492</td>\n",
       "    </tr>\n",
       "  </tbody>\n",
       "</table>\n",
       "</div>"
      ],
      "text/plain": [
       "                     A         B         C\n",
       "natural       0.721184  0.656176  0.738898\n",
       "masked        0.835920  0.832879  0.912102\n",
       "masked+noise  0.772350  0.644096  0.907492"
      ]
     },
     "metadata": {},
     "output_type": "display_data"
    }
   ],
   "source": [
    "accuracy = {}\n",
    "mean_obj_scores = {}\n",
    "for k, v in all_preds.items():\n",
    "    accuracy[k] = (all_labels == v).mean()\n",
    "\n",
    "for k, v in all_obj_scores.items():\n",
    "    mean_obj_scores[k] = v.mean()\n",
    "\n",
    "cols = {\"a\": \"A\", \"b\": \"B\", \"c\": \"C\"}\n",
    "rows = {\"a\": \"natural\", \"b\": \"masked\", \"c\": \"masked+noise\"}\n",
    "\n",
    "acc_df = pd.DataFrame.from_dict(\n",
    "    {\n",
    "        r_v: {c_v: accuracy[c_k + r_k] for c_k, c_v in cols.items()}\n",
    "        for r_k, r_v in rows.items()\n",
    "    },\n",
    "    orient=\"index\",\n",
    ")\n",
    "obj_score_df = pd.DataFrame.from_dict(\n",
    "    {\n",
    "        r_v: {c_v: mean_obj_scores[c_k + r_k] for c_k, c_v in cols.items()}\n",
    "        for r_k, r_v in rows.items()\n",
    "    },\n",
    "    orient=\"index\",\n",
    ")\n",
    "\n",
    "print('Accuracy')\n",
    "display(acc_df)\n",
    "print('Object score')\n",
    "display(obj_score_df)"
   ]
  },
  {
   "cell_type": "markdown",
   "id": "c252f0c6-b32b-42bc-884f-eb976c7a5d5e",
   "metadata": {},
   "source": [
    "## Wald CI\n",
    "$$\\text{SE}(\\hat p)=\\sqrt{\\frac{\\hat p (1 - \\hat p)}{n}}$$\n",
    "$$\\text{CI}(\\hat p) = \\hat p \\pm z \\;\\text{SE}(\\hat p)= \\hat p \\pm z \\sqrt{\\frac{\\hat p (1 - \\hat p)}{n}}$$\n",
    "With $\\alpha = 0.05$, that is a confidence level of $95\\%$ we have $z=1.96$."
   ]
  },
  {
   "cell_type": "code",
   "execution_count": 6,
   "id": "645448e7-6792-4355-8cad-f53ea347d179",
   "metadata": {},
   "outputs": [
    {
     "data": {
      "text/html": [
       "<div>\n",
       "<style scoped>\n",
       "    .dataframe tbody tr th:only-of-type {\n",
       "        vertical-align: middle;\n",
       "    }\n",
       "\n",
       "    .dataframe tbody tr th {\n",
       "        vertical-align: top;\n",
       "    }\n",
       "\n",
       "    .dataframe thead th {\n",
       "        text-align: right;\n",
       "    }\n",
       "</style>\n",
       "<table border=\"1\" class=\"dataframe\">\n",
       "  <thead>\n",
       "    <tr style=\"text-align: right;\">\n",
       "      <th></th>\n",
       "      <th>A</th>\n",
       "      <th>B</th>\n",
       "      <th>C</th>\n",
       "    </tr>\n",
       "  </thead>\n",
       "  <tbody>\n",
       "    <tr>\n",
       "      <th>natural</th>\n",
       "      <td>0.910±0.056</td>\n",
       "      <td>0.640±0.094</td>\n",
       "      <td>0.880±0.064</td>\n",
       "    </tr>\n",
       "    <tr>\n",
       "      <th>masked</th>\n",
       "      <td>0.800±0.078</td>\n",
       "      <td>0.920±0.053</td>\n",
       "      <td>0.950±0.043</td>\n",
       "    </tr>\n",
       "    <tr>\n",
       "      <th>masked+noise</th>\n",
       "      <td>0.820±0.075</td>\n",
       "      <td>0.590±0.096</td>\n",
       "      <td>0.950±0.043</td>\n",
       "    </tr>\n",
       "  </tbody>\n",
       "</table>\n",
       "</div>"
      ],
      "text/plain": [
       "                        A            B            C\n",
       "natural       0.910±0.056  0.640±0.094  0.880±0.064\n",
       "masked        0.800±0.078  0.920±0.053  0.950±0.043\n",
       "masked+noise  0.820±0.075  0.590±0.096  0.950±0.043"
      ]
     },
     "execution_count": 6,
     "metadata": {},
     "output_type": "execute_result"
    }
   ],
   "source": [
    "n = len(dloader)\n",
    "z = 1.96\n",
    "SE = np.sqrt(acc_df * (1 - acc_df) / n)\n",
    "# CI = (acc_df - z * SE, acc_df + z * SE)\n",
    "table = pd.DataFrame().reindex_like(acc_df).astype('str')\n",
    "for row in rows.values():\n",
    "    for col in cols.values():\n",
    "        table.loc[row, col] = f'{acc_df.loc[row, col]:.3f}±{z * SE.loc[row, col]:.3f}' \n",
    "table"
   ]
  },
  {
   "cell_type": "code",
   "execution_count": null,
   "id": "7266e366-6e2a-44f8-ab42-dbd8834f2587",
   "metadata": {},
   "outputs": [],
   "source": [
    "for imgs, labels, masks, noise in dloader:\n",
    "    im, label, mask = imgs[0], labels[0], masks[0]\n",
    "    \n",
    "    inputs = {\"a\": normalize_hw(imgs), \"b\": normalize_hw_mask(imgs) * masks, \"c\": normalize_hw_mask(imgs * masks + noise * (~masks))}\n",
    "    inv = {\"a\": normalize_inv_hw, \"b\": normalize_inv_hw_mask, \"c\": normalize_inv_hw_mask}\n",
    "\n",
    "    outs = {k0: {k1: None for k1 in inputs} for k0 in models}\n",
    "    obj_scores = {k0: {k1: None for k1 in inputs} for k0 in models}\n",
    "    confs = {k0: {k1: None for k1 in inputs} for k0 in models}\n",
    "\n",
    "    for k_model, outs_model in outs.items():\n",
    "        for k, v in inputs.items():\n",
    "            outs_model[k] = get_saliency(models[k_model], v, device=device)\n",
    "\n",
    "    for k_model, obj_scores_model in obj_scores.items():\n",
    "        for k, (slc, _, _, _) in outs[k_model].items():\n",
    "            obj_scores_model[k] = get_obj_score(slc, masks)\n",
    "\n",
    "    for k_model, confs_model in confs.items():\n",
    "        for k, (_, _, indices, out) in outs[k_model].items():\n",
    "            confs_model[k] = torch.softmax(out, 1)[0, indices]\n",
    "\n",
    "    # mask = masks[0, 0].numpy().astype(bool)\n",
    "\n",
    "    fig, axs_all = plt.subplots(3, 4, figsize=(20, 15), tight_layout=True)\n",
    "    fig.suptitle(f\"Ground truth: {class_legend[label.item()]}\")\n",
    "    for in_name, axs in zip(inputs, axs_all):\n",
    "\n",
    "        axs[0].imshow(np.moveaxis(inv[in_name](inputs[in_name][0]).numpy(), 0, -1))\n",
    "        for model_name, ax in zip(models, axs[1:]):\n",
    "            slc, _, indices, out = outs[model_name][in_name]\n",
    "            # ax.imshow((slc + 1) / 2, cmap=\"seismic\", vmin=0, vmax=1)\n",
    "            ax.imshow(np.abs(slc), cmap=\"seismic_r\", vmin=-.6, vmax=.6)\n",
    "            # ax.imshow(np.abs(slc), cmap=\"afmhot\", vmin=0, vmax=.5)\n",
    "            ax.set_title(\n",
    "                f\"{model_name.upper()}: {class_legend[indices.item()]} ({confs[model_name][in_name].item():.1%})\\n\\nObject score: {obj_scores[model_name][in_name]:.1%}\"\n",
    "            )\n",
    "\n",
    "    plt.show()\n",
    "\n",
    "    break"
   ]
  }
 ],
 "metadata": {
  "kernelspec": {
   "display_name": "Python 3 (ipykernel)",
   "language": "python",
   "name": "python3"
  },
  "language_info": {
   "codemirror_mode": {
    "name": "ipython",
    "version": 3
   },
   "file_extension": ".py",
   "mimetype": "text/x-python",
   "name": "python",
   "nbconvert_exporter": "python",
   "pygments_lexer": "ipython3",
   "version": "3.12.1"
  }
 },
 "nbformat": 4,
 "nbformat_minor": 5
}
