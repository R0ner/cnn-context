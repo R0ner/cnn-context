{
 "cells": [
  {
   "cell_type": "markdown",
   "id": "06f72f98-8556-44d7-9495-f6015c5d0451",
   "metadata": {},
   "source": [
    "# Prerequisites"
   ]
  },
  {
   "cell_type": "code",
   "execution_count": 1,
   "id": "d81ba553-221f-4d4c-a3d9-55a63ce70b5e",
   "metadata": {},
   "outputs": [],
   "source": [
    "import sys\n",
    "\n",
    "sys.path.append(\"..\")"
   ]
  },
  {
   "cell_type": "code",
   "execution_count": 2,
   "id": "d57e36d5-d915-4170-9e47-6b11ff588539",
   "metadata": {},
   "outputs": [],
   "source": [
    "%load_ext autoreload\n",
    "%autoreload 2\n",
    "\n",
    "import os\n",
    "\n",
    "import matplotlib.pyplot as plt\n",
    "import numpy as np\n",
    "import torch\n",
    "import torchvision.transforms.v2 as transforms\n",
    "from skimage.io import imread\n",
    "from torch.utils.data import DataLoader, Dataset\n",
    "from tqdm.notebook import tqdm\n",
    "\n",
    "import transforms3d as T\n",
    "from dataset3d import BNSet\n",
    "from util3d import show_volume"
   ]
  },
  {
   "cell_type": "code",
   "execution_count": 3,
   "id": "7d343ab0-966f-4a4d-9e00-47eb553cd839",
   "metadata": {},
   "outputs": [],
   "source": [
    "data_dir = \"../data/bugNIST_DATA\"\n",
    "\n",
    "name_legend = {\n",
    "    \"ac\": \"brown_cricket\",\n",
    "    \"bc\": \"black_cricket\",\n",
    "    \"bf\": \"blow_fly\",\n",
    "    \"bl\": \"buffalo_bettle_larva\",\n",
    "    \"bp\": \"blow_fly_pupa\",\n",
    "    \"cf\": \"curly-wing_fly\",\n",
    "    \"gh\": \"grasshopper\",\n",
    "    \"ma\": \"maggot\",\n",
    "    \"ml\": \"mealworm\",\n",
    "    \"pp\": \"green_bottle_fly_pupa\",\n",
    "    \"sl\": \"soldier_fly_larva\",\n",
    "    \"wo\": \"woodlice\",\n",
    "}\n",
    "\n",
    "device = \"cuda\" if torch.cuda.is_available() else \"cpu\""
   ]
  },
  {
   "cell_type": "markdown",
   "id": "70364ae3-ec10-4bb0-bc79-bf586baf51ef",
   "metadata": {},
   "source": [
    "# Standardization Constants"
   ]
  },
  {
   "cell_type": "code",
   "execution_count": 4,
   "id": "22a26f95-1da1-4324-a09e-e3d74f1ad3ec",
   "metadata": {},
   "outputs": [],
   "source": [
    "transform = transforms.Compose(\n",
    "    [\n",
    "        T.ToTensor(),\n",
    "        transforms.ToDtype(torch.float32, scale=True)\n",
    "    ]\n",
    ")\n",
    "\n",
    "dset = BNSet(data_dir, \"train\", transform=transform)"
   ]
  },
  {
   "cell_type": "code",
   "execution_count": 5,
   "id": "d44a82e5-bb1e-40d9-ae6c-bcd1fe3f2474",
   "metadata": {},
   "outputs": [
    {
     "data": {
      "application/vnd.jupyter.widget-view+json": {
       "model_id": "53884e2ee9cb4c9689b6d3e895b8aae3",
       "version_major": 2,
       "version_minor": 0
      },
      "text/plain": [
       "  0%|          | 0/9154 [00:00<?, ?it/s]"
      ]
     },
     "metadata": {},
     "output_type": "display_data"
    },
    {
     "data": {
      "application/vnd.jupyter.widget-view+json": {
       "model_id": "e6991e70e21f452b808c39a7cce7232f",
       "version_major": 2,
       "version_minor": 0
      },
      "text/plain": [
       "  0%|          | 0/9154 [00:00<?, ?it/s]"
      ]
     },
     "metadata": {},
     "output_type": "display_data"
    },
    {
     "data": {
      "text/plain": [
       "(0.01418260769160704, 0.004491650971672627, 0.06701978045079397)"
      ]
     },
     "execution_count": 5,
     "metadata": {},
     "output_type": "execute_result"
    }
   ],
   "source": [
    "total_sum = 0\n",
    "for volume, _ in tqdm(dset):\n",
    "    total_sum += volume.sum().item()\n",
    "mean = total_sum / (len(dset) * 128 * 64 * 64)\n",
    "var = 0\n",
    "for volume, _ in tqdm(dset):\n",
    "    var += torch.square(volume - mean).sum().item()\n",
    "var /= (len(dset) * 128 * 64 * 64 - 1)\n",
    "std = np.sqrt(var).item()\n",
    "mean, var, std"
   ]
  },
  {
   "cell_type": "code",
   "execution_count": null,
   "id": "017a8872-6c43-433a-9a44-1e8d4d94057d",
   "metadata": {},
   "outputs": [],
   "source": []
  }
 ],
 "metadata": {
  "kernelspec": {
   "display_name": "Python 3 (ipykernel)",
   "language": "python",
   "name": "python3"
  },
  "language_info": {
   "codemirror_mode": {
    "name": "ipython",
    "version": 3
   },
   "file_extension": ".py",
   "mimetype": "text/x-python",
   "name": "python",
   "nbconvert_exporter": "python",
   "pygments_lexer": "ipython3",
   "version": "3.12.1"
  }
 },
 "nbformat": 4,
 "nbformat_minor": 5
}
