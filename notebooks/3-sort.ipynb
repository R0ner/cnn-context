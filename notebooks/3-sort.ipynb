{
 "cells": [
  {
   "cell_type": "code",
   "execution_count": 1,
   "id": "0afac46d-1ba4-467f-a478-0e63342ebde8",
   "metadata": {},
   "outputs": [],
   "source": [
    "import os\n",
    "import shutil\n",
    "\n",
    "import numpy as np"
   ]
  },
  {
   "cell_type": "code",
   "execution_count": 5,
   "id": "44ca9d45-8f3f-42ed-8dba-52e6be5be861",
   "metadata": {},
   "outputs": [],
   "source": [
    "data_dir = \"../data\"\n",
    "val_img_dir = f\"{data_dir}/val_images\"\n",
    "\n",
    "all_labels = np.loadtxt(f\"{data_dir}/ILSVRC2012_validation_ground_truth.txt\").astype(\n",
    "    int\n",
    ")\n",
    "all_img_files = os.listdir(val_img_dir)\n",
    "\n",
    "class_indices = []\n",
    "for idx, name in ((3, \"siberian husky\"), (205, \"grey wolf\")):\n",
    "    class_indices.append(np.where(all_labels == idx)[0])\n",
    "\n",
    "\n",
    "imgs = [all_img_files[idx] for indices in class_indices for idx in indices]\n",
    "# imgs"
   ]
  },
  {
   "cell_type": "code",
   "execution_count": 7,
   "id": "6d48ba16-b057-4dba-8590-b83f67a489e4",
   "metadata": {},
   "outputs": [],
   "source": [
    "dst =  f\"{data_dir}/val_images_hw\"\n",
    "for f in imgs:\n",
    "    shutil.copy(f'{val_img_dir}/{f}', dst)"
   ]
  }
 ],
 "metadata": {
  "kernelspec": {
   "display_name": "Python 3 (ipykernel)",
   "language": "python",
   "name": "python3"
  },
  "language_info": {
   "codemirror_mode": {
    "name": "ipython",
    "version": 3
   },
   "file_extension": ".py",
   "mimetype": "text/x-python",
   "name": "python",
   "nbconvert_exporter": "python",
   "pygments_lexer": "ipython3",
   "version": "3.12.1"
  }
 },
 "nbformat": 4,
 "nbformat_minor": 5
}
