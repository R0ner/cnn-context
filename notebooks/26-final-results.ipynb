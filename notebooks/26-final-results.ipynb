{
 "cells": [
  {
   "cell_type": "markdown",
   "id": "9618a484-0e42-4e2e-89d0-bb3da9d67f93",
   "metadata": {},
   "source": [
    "# Prerequisites"
   ]
  },
  {
   "cell_type": "code",
   "execution_count": 1,
   "id": "a1f01ca3-6615-4dde-b22b-a8a6e0877c20",
   "metadata": {},
   "outputs": [],
   "source": [
    "import sys\n",
    "\n",
    "sys.path.append(\"..\")"
   ]
  },
  {
   "cell_type": "code",
   "execution_count": 2,
   "id": "68b68e1a-5512-48bf-8fe8-94bdefc63f93",
   "metadata": {},
   "outputs": [],
   "source": [
    "import argparse\n",
    "import json\n",
    "import os\n",
    "import time\n",
    "\n",
    "import matplotlib.pyplot as plt\n",
    "import numpy as np\n",
    "import pandas as pd\n",
    "import torch\n",
    "from IPython.display import display\n",
    "from torchvision.models import resnet18, resnet50\n",
    "from tqdm.notebook import tqdm\n",
    "\n",
    "from dataset import (\n",
    "    get_dloader,\n",
    "    normalize_hw,\n",
    "    normalize_hw_mask,\n",
    "    normalize_inv_hw,\n",
    "    normalize_inv_hw_mask,\n",
    ")\n",
    "from perlin import get_rgb_fractal_noise\n",
    "from util import eval_step, get_obj_score, get_performance, get_saliency"
   ]
  },
  {
   "cell_type": "code",
   "execution_count": 3,
   "id": "0cdf6476-4a45-439d-bc4e-a99b154a2c9b",
   "metadata": {},
   "outputs": [
    {
     "name": "stdout",
     "output_type": "stream",
     "text": [
      "Using device: cuda\n"
     ]
    }
   ],
   "source": [
    "data_dir = \"../data\"\n",
    "class_legend = (\"Siberian Husky\", \"Grey Wolf\")\n",
    "model_types = {\"r18\": \"ResNet 18\", \"r50\": \"Resnet 50\"}\n",
    "\n",
    "device = \"cuda\" if torch.cuda.is_available() else \"cpu\"\n",
    "\n",
    "print(f\"Using device: {device}\")\n",
    "\n",
    "\n",
    "def get_model(model_type, device=\"cpu\", seed=191510):\n",
    "    torch.manual_seed(seed)\n",
    "    if model_type == \"r18\":\n",
    "        model = resnet18(weights=None)\n",
    "    elif model_type == \"r50\":\n",
    "        model = resnet50(weights=None)\n",
    "    model.fc = torch.nn.Linear(\n",
    "        in_features=model.fc.in_features, out_features=len(class_legend), bias=True\n",
    "    )\n",
    "    model.to(device)\n",
    "    return model"
   ]
  },
  {
   "cell_type": "markdown",
   "id": "a3deace9-739b-4d2a-80d9-ccda9d9823f9",
   "metadata": {},
   "source": [
    "# Evaluation"
   ]
  },
  {
   "cell_type": "code",
   "execution_count": 4,
   "id": "4acb5452-d613-415d-bbea-fff3d1d4e365",
   "metadata": {},
   "outputs": [
    {
     "data": {
      "application/vnd.jupyter.widget-view+json": {
       "model_id": "ef44f638127d42d9ba52cbfb53a99c84",
       "version_major": 2,
       "version_minor": 0
      },
      "text/plain": [
       "  0%|          | 0/629 [00:00<?, ?it/s]"
      ]
     },
     "metadata": {},
     "output_type": "display_data"
    },
    {
     "data": {
      "application/vnd.jupyter.widget-view+json": {
       "model_id": "b111c86bcca4408b9f724070d406c2ec",
       "version_major": 2,
       "version_minor": 0
      },
      "text/plain": [
       "  0%|          | 0/629 [00:00<?, ?it/s]"
      ]
     },
     "metadata": {},
     "output_type": "display_data"
    },
    {
     "data": {
      "application/vnd.jupyter.widget-view+json": {
       "model_id": "de334386aa4344f8994a8081867b3840",
       "version_major": 2,
       "version_minor": 0
      },
      "text/plain": [
       "  0%|          | 0/629 [00:00<?, ?it/s]"
      ]
     },
     "metadata": {},
     "output_type": "display_data"
    }
   ],
   "source": [
    "exp_dir = \"../models/hw-final\"\n",
    "split = \"test\"\n",
    "\n",
    "norms = {\"a\": normalize_hw, \"b\": normalize_hw_mask, \"c\": normalize_hw_mask}\n",
    "dloader = get_dloader(\n",
    "    split, batch_size=1, data_dir=\"../data\", noise=True, num_workers=0\n",
    ")\n",
    "dloader_spurious = get_dloader(\n",
    "    split, batch_size=1, data_dir=\"../data\", noise=True, spurious=True, num_workers=0\n",
    ")\n",
    "\n",
    "for exp in os.listdir(exp_dir):\n",
    "    exp_runs = f\"{exp_dir}/{exp}\"\n",
    "    for run in os.listdir(exp_runs):\n",
    "        run = f\"{exp_runs}/{run}\"\n",
    "        with open(f\"{run}/config.json\", \"r\") as f:\n",
    "            config = json.load(f)\n",
    "        spurious = config.get(\"spurious\", False)\n",
    "        model_type = config.get(\"model_type\")\n",
    "        for m in \"abc\":\n",
    "            m_dir = f\"{run}/{m}\"\n",
    "            cpts = os.listdir(m_dir)\n",
    "            if len(cpts) == 0:\n",
    "                continue\n",
    "            \n",
    "            dst = f\"{run}/eval_{m}.csv\"\n",
    "            dst_spurious = f\"{run}/eval_spurious_{m}.csv\"\n",
    "            \n",
    "            last_cpt = None\n",
    "            max_epoch = -1\n",
    "            for cpt in cpts:\n",
    "                epoch = int(cpt.split(\"_\")[1].split(\".\")[0][1:])\n",
    "                if epoch > max_epoch:\n",
    "                    last_cpt = cpt\n",
    "                    max_epoch = epoch\n",
    "\n",
    "            model = get_model(model_type, device=device)\n",
    "            checkpoint = torch.load(f\"{m_dir}/{last_cpt}\")\n",
    "            to_delete = []\n",
    "            for k in checkpoint[\"model_state_dict\"]:\n",
    "                if \"feature_extractor\" in k:\n",
    "                    to_delete.append(k)\n",
    "            for k in to_delete:\n",
    "                del checkpoint[\"model_state_dict\"][k]\n",
    "            model.load_state_dict(checkpoint[\"model_state_dict\"])\n",
    "            model.eval()\n",
    "            del checkpoint\n",
    "            \n",
    "            norm = norms[m]\n",
    "            dloaders = [dloader]\n",
    "            dsts = [dst]\n",
    "            if spurious:\n",
    "                dloaders.append(dloader_spurious)\n",
    "                dsts.append(dst_spurious)\n",
    "            for dloader_, dst_ in zip(dloaders, dsts):\n",
    "                if os.path.exists(dst_):\n",
    "                    continue\n",
    "                preds = {\"a\": [], \"b\": [], \"c\": []}\n",
    "                obj_scores = {\"a\": [], \"b\": [], \"c\": []}\n",
    "                gt_labels = []\n",
    "                for imgs, labels, masks, noise in tqdm(dloader_):\n",
    "                    inputs = {\n",
    "                        \"a\": norm(imgs),\n",
    "                        \"b\": norm(imgs) * masks,\n",
    "                        \"c\": norm(imgs * masks + noise * (~masks)),\n",
    "                    }\n",
    "    \n",
    "                    for k, imgs_in in inputs.items():\n",
    "                        if k != \"a\" and spurious:\n",
    "                            continue\n",
    "                        slc, _, indices, _ = get_saliency(\n",
    "                            model, imgs_in, device=device\n",
    "                        )\n",
    "                        obj_scores[k].append(get_obj_score(slc, masks))\n",
    "                        preds[k].append(indices.item())\n",
    "                    gt_labels.append(labels.item())\n",
    "                gt_labels = np.array(gt_labels)\n",
    "    \n",
    "                results = {}\n",
    "                for k, p in preds.items():\n",
    "                    if len(p) == 0:\n",
    "                        continue\n",
    "                    p = np.array(p)\n",
    "                    acc = (p == gt_labels).mean()\n",
    "                    obj_score = np.mean(obj_scores[k])\n",
    "                    results[k] = {\"Accuracy\": acc, \"Object Score\": obj_score}\n",
    "                results = pd.DataFrame.from_dict(results, orient=\"index\")\n",
    "                results.to_csv(dst_)"
   ]
  }
 ],
 "metadata": {
  "kernelspec": {
   "display_name": "Python 3 (ipykernel)",
   "language": "python",
   "name": "python3"
  },
  "language_info": {
   "codemirror_mode": {
    "name": "ipython",
    "version": 3
   },
   "file_extension": ".py",
   "mimetype": "text/x-python",
   "name": "python",
   "nbconvert_exporter": "python",
   "pygments_lexer": "ipython3",
   "version": "3.12.1"
  }
 },
 "nbformat": 4,
 "nbformat_minor": 5
}
