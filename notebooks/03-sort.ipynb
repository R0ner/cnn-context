{
 "cells": [
  {
   "cell_type": "code",
   "execution_count": 1,
   "id": "0afac46d-1ba4-467f-a478-0e63342ebde8",
   "metadata": {},
   "outputs": [],
   "source": [
    "import os\n",
    "import shutil\n",
    "\n",
    "import numpy as np"
   ]
  },
  {
   "cell_type": "code",
   "execution_count": 2,
   "id": "c0056030-3d79-426d-9ac1-a2294bdb2853",
   "metadata": {},
   "outputs": [],
   "source": [
    "data_dir = \"../data\"\n",
    "src_dir = f\"{data_dir}/train_images_1\"\n",
    "dst_dir =  f\"{src_dir}_hw\"\n",
    "\n",
    "if not os.path.exists(dst_dir):\n",
    "    os.mkdir(dst_dir)"
   ]
  },
  {
   "cell_type": "code",
   "execution_count": 3,
   "id": "44ca9d45-8f3f-42ed-8dba-52e6be5be861",
   "metadata": {},
   "outputs": [
    {
     "data": {
      "text/plain": [
       "532"
      ]
     },
     "execution_count": 3,
     "metadata": {},
     "output_type": "execute_result"
    }
   ],
   "source": [
    "# all_labels = np.loadtxt(f\"{data_dir}/ILSVRC2012_validation_ground_truth.txt\").astype(\n",
    "#     int\n",
    "# )\n",
    "img_files = os.listdir(src_dir)\n",
    "\n",
    "# class_indices = []\n",
    "# for idx, name in ((3, \"siberian husky\"), (205, \"grey wolf\")):\n",
    "#     class_indices.append(np.where(all_labels == idx)[0])\n",
    "\n",
    "imgs = []\n",
    "for f in img_files:\n",
    "    for label, (idx, name, obj_id) in enumerate([(3, \"siberian husky\", \"n02110185\"), (205, \"grey wolf\", \"n02114367\")]):\n",
    "        if obj_id in f:\n",
    "            imgs.append(f)\n",
    "\n",
    "len(imgs)\n",
    "# imgs"
   ]
  },
  {
   "cell_type": "code",
   "execution_count": 4,
   "id": "6d48ba16-b057-4dba-8590-b83f67a489e4",
   "metadata": {},
   "outputs": [],
   "source": [
    "for f in imgs:\n",
    "    shutil.copy(f'{src_dir}/{f}', dst_dir)"
   ]
  }
 ],
 "metadata": {
  "kernelspec": {
   "display_name": "Python 3 (ipykernel)",
   "language": "python",
   "name": "python3"
  },
  "language_info": {
   "codemirror_mode": {
    "name": "ipython",
    "version": 3
   },
   "file_extension": ".py",
   "mimetype": "text/x-python",
   "name": "python",
   "nbconvert_exporter": "python",
   "pygments_lexer": "ipython3",
   "version": "3.12.1"
  }
 },
 "nbformat": 4,
 "nbformat_minor": 5
}
