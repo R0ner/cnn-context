{
 "cells": [
  {
   "cell_type": "code",
   "execution_count": 1,
   "id": "608164a1-bf8f-461c-86ad-7cd6702bdf4d",
   "metadata": {},
   "outputs": [],
   "source": [
    "import sys\n",
    "\n",
    "sys.path.append(\"..\")"
   ]
  },
  {
   "cell_type": "code",
   "execution_count": 2,
   "id": "0056a436-c8bc-4d07-bdb5-027c351f98f3",
   "metadata": {},
   "outputs": [],
   "source": [
    "import numpy as np\n",
    "\n",
    "from dataset import get_dloader"
   ]
  },
  {
   "cell_type": "code",
   "execution_count": 3,
   "id": "059fe832-16e4-4369-a9af-5c53ad141444",
   "metadata": {},
   "outputs": [
    {
     "data": {
      "text/plain": [
       "932"
      ]
     },
     "execution_count": 3,
     "metadata": {},
     "output_type": "execute_result"
    }
   ],
   "source": [
    "dloader = get_dloader(\"train\", 1, data_dir=\"../data\")\n",
    "len(dloader)"
   ]
  },
  {
   "cell_type": "code",
   "execution_count": 4,
   "id": "03d204d4-f515-4dbf-bd4f-cdb80f0addcd",
   "metadata": {},
   "outputs": [],
   "source": [
    "# np.random.seed(123)\n",
    "# subset_indices = np.random.permutation(932)\n",
    "# np.save(\"../data/train_subset_indices.npy\", subset_indices)"
   ]
  },
  {
   "cell_type": "code",
   "execution_count": 5,
   "id": "a8e202b1-0449-4bce-bf1e-fcd6af3735bc",
   "metadata": {},
   "outputs": [],
   "source": [
    "# np.save(\"../data/train_subset_indices.npy\", subset_indices)"
   ]
  },
  {
   "cell_type": "code",
   "execution_count": 6,
   "id": "f061a015-dd1e-4e82-a947-89fe97b60851",
   "metadata": {},
   "outputs": [
    {
     "data": {
      "text/plain": [
       "466"
      ]
     },
     "execution_count": 6,
     "metadata": {},
     "output_type": "execute_result"
    }
   ],
   "source": [
    "dloader = get_dloader(\"train\", 1, data_dir=\"../data\", subset=0.5, noise=True)\n",
    "len(dloader)"
   ]
  }
 ],
 "metadata": {
  "kernelspec": {
   "display_name": "Python 3 (ipykernel)",
   "language": "python",
   "name": "python3"
  },
  "language_info": {
   "codemirror_mode": {
    "name": "ipython",
    "version": 3
   },
   "file_extension": ".py",
   "mimetype": "text/x-python",
   "name": "python",
   "nbconvert_exporter": "python",
   "pygments_lexer": "ipython3",
   "version": "3.12.1"
  }
 },
 "nbformat": 4,
 "nbformat_minor": 5
}
