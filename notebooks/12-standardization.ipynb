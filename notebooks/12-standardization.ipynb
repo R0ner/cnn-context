{
 "cells": [
  {
   "cell_type": "markdown",
   "id": "2851f60b-3f11-46af-b83d-5491da01bacb",
   "metadata": {},
   "source": [
    "# Prerequisites"
   ]
  },
  {
   "cell_type": "code",
   "execution_count": 1,
   "id": "99fa91fa-6fba-4d88-aba3-affb668b67ba",
   "metadata": {},
   "outputs": [],
   "source": [
    "import sys\n",
    "\n",
    "sys.path.append(\"..\")"
   ]
  },
  {
   "cell_type": "code",
   "execution_count": 2,
   "id": "85c55f23-3dce-4e66-aabb-d45ca88dbb40",
   "metadata": {},
   "outputs": [
    {
     "name": "stderr",
     "output_type": "stream",
     "text": [
      "C:\\Users\\runes\\.conda\\envs\\context\\Lib\\site-packages\\torchvision\\transforms\\v2\\_deprecated.py:41: UserWarning: The transform `ToTensor()` is deprecated and will be removed in a future release. Instead, please use `v2.Compose([v2.ToImage(), v2.ToDtype(torch.float32, scale=True)])`.\n",
      "  warnings.warn(\n"
     ]
    }
   ],
   "source": [
    "%load_ext autoreload\n",
    "%autoreload 2\n",
    "\n",
    "import matplotlib.pyplot as plt\n",
    "import numpy as np\n",
    "from tqdm.notebook import tqdm\n",
    "\n",
    "from dataset import HWSetMasks"
   ]
  },
  {
   "cell_type": "markdown",
   "id": "11ddacf2-2161-4297-bb60-c9bbfee68c75",
   "metadata": {},
   "source": [
    "# Estimate channelwise mean and std"
   ]
  },
  {
   "cell_type": "code",
   "execution_count": 3,
   "id": "83276286-7cfd-44d9-b944-725393e36221",
   "metadata": {},
   "outputs": [],
   "source": [
    "trainset = HWSetMasks(\"../data\", \"train\")"
   ]
  },
  {
   "cell_type": "code",
   "execution_count": 4,
   "id": "71b730b7-4ed7-4783-87be-40c3afaadb2f",
   "metadata": {},
   "outputs": [
    {
     "data": {
      "application/vnd.jupyter.widget-view+json": {
       "model_id": "53687e93a956452cb12d250df2cb4e8b",
       "version_major": 2,
       "version_minor": 0
      },
      "text/plain": [
       "  0%|          | 0/932 [00:00<?, ?it/s]"
      ]
     },
     "metadata": {},
     "output_type": "display_data"
    }
   ],
   "source": [
    "channels = []\n",
    "channels_mask = []\n",
    "for i in tqdm(range(len(trainset))):\n",
    "    im, _, mask = trainset[i]\n",
    "    im, mask = np.array(im), np.array(mask)\n",
    "    channels.append(im.reshape(-1, 3))\n",
    "    channels_mask.append(im[mask != 0])"
   ]
  },
  {
   "cell_type": "code",
   "execution_count": 5,
   "id": "e41ef10b-b5e9-4570-be76-c645d2251cc9",
   "metadata": {},
   "outputs": [],
   "source": [
    "channels = np.vstack(channels)\n",
    "channels_mask = np.vstack(channels_mask)"
   ]
  },
  {
   "cell_type": "code",
   "execution_count": 6,
   "id": "210ad3ea-2354-4c5d-b611-30b8311e15e1",
   "metadata": {},
   "outputs": [],
   "source": [
    "channels_mean = channels.mean(0) / 255\n",
    "channels_std = channels.std(0) / 255\n",
    "channels_mask_mean = channels_mask.mean(0) / 255\n",
    "channels_mask_std = channels_mask.std(0) / 255"
   ]
  },
  {
   "cell_type": "code",
   "execution_count": 7,
   "id": "36c1eecd-68e9-47fa-bef9-16e9daf4a617",
   "metadata": {},
   "outputs": [],
   "source": [
    "channels, channels_mask = None, None"
   ]
  },
  {
   "cell_type": "code",
   "execution_count": 9,
   "id": "db377687-2cb4-44a9-be25-067f761dac95",
   "metadata": {},
   "outputs": [
    {
     "data": {
      "text/plain": [
       "(array([0.453, 0.444, 0.405]),\n",
       " array([0.258, 0.256, 0.27 ]),\n",
       " array([0.495, 0.467, 0.435]),\n",
       " array([0.25 , 0.247, 0.246]))"
      ]
     },
     "execution_count": 9,
     "metadata": {},
     "output_type": "execute_result"
    }
   ],
   "source": [
    "channels_mean.round(3), channels_std.round(3), channels_mask_mean.round(3), channels_mask_std.round(3)"
   ]
  }
 ],
 "metadata": {
  "kernelspec": {
   "display_name": "Python 3 (ipykernel)",
   "language": "python",
   "name": "python3"
  },
  "language_info": {
   "codemirror_mode": {
    "name": "ipython",
    "version": 3
   },
   "file_extension": ".py",
   "mimetype": "text/x-python",
   "name": "python",
   "nbconvert_exporter": "python",
   "pygments_lexer": "ipython3",
   "version": "3.12.1"
  }
 },
 "nbformat": 4,
 "nbformat_minor": 5
}
