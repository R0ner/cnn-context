{
 "cells": [
  {
   "cell_type": "markdown",
   "id": "1bc7b19e-799e-45cd-8fad-664ab5002e20",
   "metadata": {},
   "source": [
    "# Prerequisites"
   ]
  },
  {
   "cell_type": "code",
   "execution_count": 1,
   "id": "f170a18f-56c0-4e9c-b157-ba4de4e97b2c",
   "metadata": {},
   "outputs": [],
   "source": [
    "import sys\n",
    "\n",
    "sys.path.append(\"..\")"
   ]
  },
  {
   "cell_type": "code",
   "execution_count": 2,
   "id": "60c39948-eab8-449b-84f8-d345777db8ee",
   "metadata": {},
   "outputs": [],
   "source": [
    "%load_ext autoreload\n",
    "%autoreload 2\n",
    "\n",
    "import os\n",
    "\n",
    "import matplotlib.pyplot as plt\n",
    "import numpy as np\n",
    "import seaborn as sns\n",
    "import torch\n",
    "import torchvision.transforms.v2 as transforms\n",
    "from IPython.display import clear_output\n",
    "from skimage.io import imread, imsave\n",
    "from torch import nn\n",
    "from torch.optim import Adam\n",
    "from torch.utils.data import DataLoader, Dataset\n",
    "from tqdm.notebook import tqdm\n",
    "\n",
    "import transforms3d as T\n",
    "from dataset3d import BNSet, BNSetMasks, get_dloader_mask\n",
    "from model3d import CNN3d\n",
    "from util3d import get_obj_score3d, get_saliency3d, show_volume\n",
    "\n",
    "sns.set_theme()"
   ]
  },
  {
   "cell_type": "code",
   "execution_count": 3,
   "id": "3d0ad7cc-f3dd-489c-9721-a9e7f3db92cb",
   "metadata": {},
   "outputs": [],
   "source": [
    "data_dir = \"../data/bugNIST_DATA\"\n",
    "\n",
    "name_legend = {\n",
    "    \"ac\": \"brown_cricket\",\n",
    "    \"bc\": \"black_cricket\",\n",
    "    \"bf\": \"blow_fly\",\n",
    "    \"bl\": \"buffalo_bettle_larva\",\n",
    "    \"bp\": \"blow_fly_pupa\",\n",
    "    \"cf\": \"curly-wing_fly\",\n",
    "    \"gh\": \"grasshopper\",\n",
    "    \"ma\": \"maggot\",\n",
    "    \"ml\": \"mealworm\",\n",
    "    \"pp\": \"green_bottle_fly_pupa\",\n",
    "    \"sl\": \"soldier_fly_larva\",\n",
    "    \"wo\": \"woodlice\",\n",
    "}\n",
    "\n",
    "device = \"cuda\" if torch.cuda.is_available() else \"cpu\""
   ]
  },
  {
   "cell_type": "markdown",
   "id": "848d954e-f6fa-4919-9271-6537f08c59aa",
   "metadata": {},
   "source": [
    "# Training loop"
   ]
  },
  {
   "cell_type": "code",
   "execution_count": 4,
   "id": "4bcb6835-06b5-4b6c-ba6c-6d7632496e6e",
   "metadata": {},
   "outputs": [],
   "source": [
    "lr = 1e-4\n",
    "\n",
    "batch_size = 16\n",
    "num_workers = 8\n",
    "\n",
    "subset = [\"ac\", \"bc\"]\n",
    "\n",
    "trainloader = get_dloader_mask(\n",
    "    \"train\",\n",
    "    batch_size,\n",
    "    data_dir=data_dir,\n",
    "    subset=subset,\n",
    "    num_workers=num_workers,\n",
    "    pin_memory=True,\n",
    "    persistent_workers=True,\n",
    ")\n",
    "valloader = get_dloader_mask(\n",
    "    \"val\",\n",
    "    batch_size,\n",
    "    data_dir=data_dir,\n",
    "    subset=subset,\n",
    "    num_workers=num_workers,\n",
    "    pin_memory=True,\n",
    "    persistent_workers=True,\n",
    ")\n",
    "\n",
    "model = CNN3d(len(subset))\n",
    "model.to(device)\n",
    "\n",
    "criterion = nn.CrossEntropyLoss()\n",
    "optimizer = Adam(model.parameters(), lr=lr)"
   ]
  },
  {
   "cell_type": "code",
   "execution_count": null,
   "id": "fc43231d-9fb0-4e1a-bf36-f4c842aa53c2",
   "metadata": {},
   "outputs": [
    {
     "name": "stdout",
     "output_type": "stream",
     "text": [
      "Epoch 0\n"
     ]
    },
    {
     "data": {
      "application/vnd.jupyter.widget-view+json": {
       "model_id": "4b2a78b2909244088ff01613b94293e5",
       "version_major": 2,
       "version_minor": 0
      },
      "text/plain": [
       "  0%|          | 0/56 [00:00<?, ?it/s]"
      ]
     },
     "metadata": {},
     "output_type": "display_data"
    }
   ],
   "source": [
    "stats = {}\n",
    "for epoch in range(50):\n",
    "    metrics_train = {\n",
    "        \"loss\": [],\n",
    "        \"preds\": [],\n",
    "        \"labels\": [],\n",
    "    }\n",
    "    metrics_val = {\n",
    "        \"loss\": [],\n",
    "        \"preds\": [],\n",
    "        \"labels\": [],\n",
    "    }\n",
    "\n",
    "    print(f\"Epoch {epoch}\")\n",
    "    model.train()\n",
    "    for volumes, labels, masks in tqdm(trainloader):\n",
    "        out = model((volumes * masks).to(device))\n",
    "\n",
    "        loss = criterion(out, labels.type(torch.LongTensor).to(device))\n",
    "        loss.backward()\n",
    "\n",
    "        optimizer.step()\n",
    "        optimizer.zero_grad()\n",
    "\n",
    "        _, indices = torch.max(out.cpu(), 1)\n",
    "\n",
    "        metrics_train[\"loss\"].append(loss.cpu().detach().item())\n",
    "        metrics_train[\"preds\"].append(indices.detach().numpy())\n",
    "        metrics_train[\"labels\"].append(labels.numpy())\n",
    "\n",
    "    model.eval()\n",
    "    for volumes, labels, masks in tqdm(valloader):\n",
    "        out = model((volumes * masks).to(device))\n",
    "\n",
    "        with torch.no_grad():\n",
    "            loss = criterion(out, labels.type(torch.LongTensor).to(device))\n",
    "\n",
    "        _, indices = torch.max(out.cpu(), 1)\n",
    "\n",
    "        metrics_val[\"loss\"].append(loss.cpu().detach().item())\n",
    "        metrics_val[\"preds\"].append(indices.detach().numpy())\n",
    "        metrics_val[\"labels\"].append(labels.numpy())\n",
    "\n",
    "    performance = {\n",
    "        \"train_loss\": np.mean(metrics_train[\"loss\"]),\n",
    "        \"train_accuracy\": np.mean(\n",
    "            np.concatenate(metrics_train[\"preds\"])\n",
    "            == np.concatenate(metrics_train[\"labels\"])\n",
    "        ).item(),\n",
    "        \"val_loss\": np.mean(metrics_val[\"loss\"]),\n",
    "        \"val_accuracy\": np.mean(\n",
    "            np.concatenate(metrics_val[\"preds\"])\n",
    "            == np.concatenate(metrics_val[\"labels\"])\n",
    "        ).item(),\n",
    "    }\n",
    "    print(performance)\n",
    "    stats[epoch] = performance"
   ]
  },
  {
   "cell_type": "code",
   "execution_count": null,
   "id": "aa383b7c-e514-4689-8379-e5892e1f241a",
   "metadata": {},
   "outputs": [],
   "source": [
    "fig, (ax0, ax1) = plt.subplots(1, 2, figsize=(9, 3), dpi=150)\n",
    "\n",
    "ax0.plot(stats.keys(), [stats[epoch][\"loss\"] for epoch in stats])\n",
    "ax0.set_title(\"CE Loss\")\n",
    "\n",
    "ax1.plot(stats.keys(), [stats[epoch][\"accuracy\"] * 100 for epoch in stats])\n",
    "ax1.set_title(\"Accuracy\")\n",
    "plt.show()"
   ]
  },
  {
   "cell_type": "markdown",
   "id": "753360e2-c445-4b3f-96e4-a3764aa3f235",
   "metadata": {},
   "source": [
    "# Saliency"
   ]
  },
  {
   "cell_type": "code",
   "execution_count": null,
   "id": "9337ee3e-21c6-489e-b3cd-f008bc5aaf65",
   "metadata": {},
   "outputs": [],
   "source": [
    "dloader = get_dloader_mask(\"train\", 1, data_dir=data_dir, subset=subset, num_workers=0)\n",
    "model.eval();"
   ]
  },
  {
   "cell_type": "code",
   "execution_count": null,
   "id": "c23468d7-3f1c-40e1-a744-93841286d57a",
   "metadata": {},
   "outputs": [],
   "source": [
    "volumes, labels, masks = next(iter(dloader))\n",
    "volumes = volumes * masks\n",
    "\n",
    "slc, score, indices, out = get_saliency3d(model, volumes, device=device)\n",
    "obj_score = get_obj_score3d(slc, masks)\n",
    "\n",
    "slc_abs = np.abs(slc)\n",
    "\n",
    "show_volume(volumes.detach().numpy(), labels.item())\n",
    "show_volume(slc_abs / slc_abs.max(), cmap=\"inferno\")\n",
    "obj_score, indices.item(), labels.item()"
   ]
  },
  {
   "cell_type": "code",
   "execution_count": null,
   "id": "7d4c633b-f100-457c-bacf-0906d3e20d08",
   "metadata": {},
   "outputs": [],
   "source": [
    "obj_scores = []\n",
    "for volumes, labels, masks in tqdm(dloader):\n",
    "    volumes *= masks\n",
    "\n",
    "    slc, score, indices, out = get_saliency3d(model, volumes, device=device)\n",
    "    obj_score = get_obj_score3d(slc, masks)\n",
    "\n",
    "    obj_scores.append(obj_score)\n",
    "\n",
    "np.mean(obj_scores)"
   ]
  }
 ],
 "metadata": {
  "kernelspec": {
   "display_name": "Python 3 (ipykernel)",
   "language": "python",
   "name": "python3"
  },
  "language_info": {
   "codemirror_mode": {
    "name": "ipython",
    "version": 3
   },
   "file_extension": ".py",
   "mimetype": "text/x-python",
   "name": "python",
   "nbconvert_exporter": "python",
   "pygments_lexer": "ipython3",
   "version": "3.12.1"
  }
 },
 "nbformat": 4,
 "nbformat_minor": 5
}
