{
 "cells": [
  {
   "cell_type": "markdown",
   "id": "1e616acb-2070-4f77-8b75-5457312fb8cb",
   "metadata": {},
   "source": [
    "# Prerequisites"
   ]
  },
  {
   "cell_type": "code",
   "execution_count": 1,
   "id": "e3779ce1-e195-4e95-9169-152d178cec4e",
   "metadata": {},
   "outputs": [],
   "source": [
    "import sys\n",
    "\n",
    "sys.path.append(\"..\")"
   ]
  },
  {
   "cell_type": "code",
   "execution_count": 2,
   "id": "4969ced4-0945-421d-9015-2190f1d1d315",
   "metadata": {},
   "outputs": [
    {
     "name": "stderr",
     "output_type": "stream",
     "text": [
      "C:\\Users\\runes\\.conda\\envs\\context\\Lib\\site-packages\\torchvision\\transforms\\v2\\_deprecated.py:41: UserWarning: The transform `ToTensor()` is deprecated and will be removed in a future release. Instead, please use `v2.Compose([v2.ToImage(), v2.ToDtype(torch.float32, scale=True)])`.\n",
      "  warnings.warn(\n"
     ]
    }
   ],
   "source": [
    "%load_ext autoreload\n",
    "%autoreload 2\n",
    "\n",
    "import argparse\n",
    "import os\n",
    "import time\n",
    "\n",
    "import matplotlib.pyplot as plt\n",
    "import numpy as np\n",
    "import pandas as pd\n",
    "import seaborn as sns\n",
    "import torch\n",
    "from IPython.display import display\n",
    "from torchvision.models import resnet18, resnet50\n",
    "from tqdm.notebook import tqdm\n",
    "\n",
    "from dataset import (\n",
    "    HWSet,\n",
    "    normalize_hw,\n",
    "    normalize_hw_mask,\n",
    "    normalize_inv_hw,\n",
    "    normalize_inv_hw_mask,\n",
    "    transform_shared,\n",
    "    get_dloader\n",
    ")\n",
    "from util import eval_step, get_obj_score, get_performance, get_saliency\n",
    "\n",
    "sns.set_theme()"
   ]
  },
  {
   "cell_type": "code",
   "execution_count": 3,
   "id": "21711016-140a-4025-8bc7-be04ff88b2be",
   "metadata": {},
   "outputs": [
    {
     "name": "stdout",
     "output_type": "stream",
     "text": [
      "Using device: cuda\n"
     ]
    }
   ],
   "source": [
    "data_dir = \"../data\"\n",
    "class_legend = (\"Siberian Husky\", \"Grey Wolf\")\n",
    "model_types = {\"r18\": \"ResNet 18\", \"r50\": \"Resnet 50\"}\n",
    "\n",
    "device = \"cuda\" if torch.cuda.is_available() else \"cpu\"\n",
    "\n",
    "print(f\"Using device: {device}\")\n",
    "\n",
    "\n",
    "def get_model(model_type, device=\"cpu\", seed=191510):\n",
    "    torch.manual_seed(seed)\n",
    "    if model_type == \"r18\":\n",
    "        model = resnet18(weights=None)\n",
    "    elif model_type == \"r50\":\n",
    "        model = resnet50(weights=None)\n",
    "    model.fc = torch.nn.Linear(\n",
    "        in_features=model.fc.in_features, out_features=len(class_legend), bias=True\n",
    "    )\n",
    "    model.to(device)\n",
    "    return model"
   ]
  },
  {
   "cell_type": "markdown",
   "id": "e399d19c-d97c-4bf6-ac94-def4a25a34ff",
   "metadata": {},
   "source": [
    "# Timing and testing"
   ]
  },
  {
   "cell_type": "code",
   "execution_count": 4,
   "id": "66b95f2f-b587-4d47-8c7c-c7a115e344be",
   "metadata": {},
   "outputs": [],
   "source": [
    "dloader = get_dloader('train', 16, data_dir=data_dir, noise=True, num_workers=0)"
   ]
  },
  {
   "cell_type": "code",
   "execution_count": 5,
   "id": "baa2663b-972c-4646-8163-e8eb88f4d11c",
   "metadata": {},
   "outputs": [
    {
     "name": "stdout",
     "output_type": "stream",
     "text": [
      "51.3 s ± 1.43 s per loop (mean ± std. dev. of 7 runs, 1 loop each)\n"
     ]
    }
   ],
   "source": [
    "%%timeit\n",
    "for imgs, labels, masks, noise in dloader:\n",
    "    pass"
   ]
  },
  {
   "cell_type": "code",
   "execution_count": 6,
   "id": "a77bbe65-f258-43be-8de8-eec9c202ffcd",
   "metadata": {},
   "outputs": [],
   "source": [
    "dloader = get_dloader('train', 16, data_dir=data_dir, noise=True, num_workers=2)"
   ]
  },
  {
   "cell_type": "code",
   "execution_count": null,
   "id": "d282c647-b1a6-4359-ab16-d1680fa86a4d",
   "metadata": {},
   "outputs": [],
   "source": [
    "%%timeit\n",
    "for imgs, labels, masks, noise in dloader:\n",
    "    pass"
   ]
  },
  {
   "cell_type": "code",
   "execution_count": null,
   "id": "9bceafce-d5f3-496b-a366-6fb1d811d454",
   "metadata": {},
   "outputs": [],
   "source": [
    "dloader = get_dloader('train', 16, data_dir=data_dir, noise=True, num_workers=4)"
   ]
  },
  {
   "cell_type": "code",
   "execution_count": null,
   "id": "2411d2d0-0787-4326-9115-0a8ed0739718",
   "metadata": {},
   "outputs": [],
   "source": [
    "%%timeit\n",
    "for imgs, labels, masks, noise in dloader:\n",
    "    pass"
   ]
  }
 ],
 "metadata": {
  "kernelspec": {
   "display_name": "Python 3 (ipykernel)",
   "language": "python",
   "name": "python3"
  },
  "language_info": {
   "codemirror_mode": {
    "name": "ipython",
    "version": 3
   },
   "file_extension": ".py",
   "mimetype": "text/x-python",
   "name": "python",
   "nbconvert_exporter": "python",
   "pygments_lexer": "ipython3",
   "version": "3.12.1"
  }
 },
 "nbformat": 4,
 "nbformat_minor": 5
}
